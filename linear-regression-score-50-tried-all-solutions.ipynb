{
 "cells": [
  {
   "cell_type": "code",
   "execution_count": 1,
   "id": "1de82ad0",
   "metadata": {
    "_cell_guid": "b1076dfc-b9ad-4769-8c92-a6c4dae69d19",
    "_uuid": "8f2839f25d086af736a60e9eeb907d3b93b6e0e5",
    "execution": {
     "iopub.execute_input": "2023-12-23T16:33:33.959989Z",
     "iopub.status.busy": "2023-12-23T16:33:33.959503Z",
     "iopub.status.idle": "2023-12-23T16:33:34.407937Z",
     "shell.execute_reply": "2023-12-23T16:33:34.406756Z"
    },
    "papermill": {
     "duration": 0.474439,
     "end_time": "2023-12-23T16:33:34.410546",
     "exception": false,
     "start_time": "2023-12-23T16:33:33.936107",
     "status": "completed"
    },
    "tags": []
   },
   "outputs": [
    {
     "name": "stdout",
     "output_type": "stream",
     "text": [
      "/kaggle/input/lucknow-city-india-450-housing-prices-updated/lucknow_hosuing_prices - Main File.csv\n"
     ]
    }
   ],
   "source": [
    "# This Python 3 environment comes with many helpful analytics libraries installed\n",
    "# It is defined by the kaggle/python Docker image: https://github.com/kaggle/docker-python\n",
    "# For example, here's several helpful packages to load\n",
    "\n",
    "import numpy as np # linear algebra\n",
    "import pandas as pd # data processing, CSV file I/O (e.g. pd.read_csv)\n",
    "\n",
    "# Input data files are available in the read-only \"../input/\" directory\n",
    "# For example, running this (by clicking run or pressing Shift+Enter) will list all files under the input directory\n",
    "\n",
    "import os\n",
    "for dirname, _, filenames in os.walk('/kaggle/input'):\n",
    "    for filename in filenames:\n",
    "        print(os.path.join(dirname, filename))\n",
    "\n",
    "# You can write up to 20GB to the current directory (/kaggle/working/) that gets preserved as output when you create a version using \"Save & Run All\" \n",
    "# You can also write temporary files to /kaggle/temp/, but they won't be saved outside of the current session"
   ]
  },
  {
   "cell_type": "markdown",
   "id": "4d32e67e",
   "metadata": {
    "papermill": {
     "duration": 0.020812,
     "end_time": "2023-12-23T16:33:34.452188",
     "exception": false,
     "start_time": "2023-12-23T16:33:34.431376",
     "status": "completed"
    },
    "tags": []
   },
   "source": [
    "## Importing ML and Viz Libraries"
   ]
  },
  {
   "cell_type": "code",
   "execution_count": 2,
   "id": "2536bad3",
   "metadata": {
    "execution": {
     "iopub.execute_input": "2023-12-23T16:33:34.496489Z",
     "iopub.status.busy": "2023-12-23T16:33:34.495211Z",
     "iopub.status.idle": "2023-12-23T16:33:35.818092Z",
     "shell.execute_reply": "2023-12-23T16:33:35.816845Z"
    },
    "papermill": {
     "duration": 1.34803,
     "end_time": "2023-12-23T16:33:35.820984",
     "exception": false,
     "start_time": "2023-12-23T16:33:34.472954",
     "status": "completed"
    },
    "tags": []
   },
   "outputs": [],
   "source": [
    "import pandas as pd\n",
    "import matplotlib.pyplot as plt\n",
    "import seaborn as sns"
   ]
  },
  {
   "cell_type": "code",
   "execution_count": 3,
   "id": "7579bdbc",
   "metadata": {
    "execution": {
     "iopub.execute_input": "2023-12-23T16:33:35.864748Z",
     "iopub.status.busy": "2023-12-23T16:33:35.864295Z",
     "iopub.status.idle": "2023-12-23T16:33:36.310076Z",
     "shell.execute_reply": "2023-12-23T16:33:36.308935Z"
    },
    "papermill": {
     "duration": 0.470557,
     "end_time": "2023-12-23T16:33:36.312790",
     "exception": false,
     "start_time": "2023-12-23T16:33:35.842233",
     "status": "completed"
    },
    "tags": []
   },
   "outputs": [],
   "source": [
    "from sklearn.linear_model import LinearRegression\n",
    "from sklearn.model_selection import cross_val_score\n",
    "from sklearn.model_selection import GridSearchCV\n",
    "from sklearn.model_selection import train_test_split\n",
    "from sklearn.linear_model import Lasso\n",
    "from sklearn.linear_model import Ridge"
   ]
  },
  {
   "cell_type": "code",
   "execution_count": 4,
   "id": "55fa7f9f",
   "metadata": {
    "execution": {
     "iopub.execute_input": "2023-12-23T16:33:36.357386Z",
     "iopub.status.busy": "2023-12-23T16:33:36.356677Z",
     "iopub.status.idle": "2023-12-23T16:33:36.389736Z",
     "shell.execute_reply": "2023-12-23T16:33:36.388645Z"
    },
    "papermill": {
     "duration": 0.058365,
     "end_time": "2023-12-23T16:33:36.392501",
     "exception": false,
     "start_time": "2023-12-23T16:33:36.334136",
     "status": "completed"
    },
    "tags": []
   },
   "outputs": [],
   "source": [
    "from sklearn.preprocessing import StandardScaler\n",
    "from sklearn.decomposition import PCA"
   ]
  },
  {
   "cell_type": "markdown",
   "id": "48a95ccb",
   "metadata": {
    "papermill": {
     "duration": 0.020366,
     "end_time": "2023-12-23T16:33:36.433648",
     "exception": false,
     "start_time": "2023-12-23T16:33:36.413282",
     "status": "completed"
    },
    "tags": []
   },
   "source": [
    "## Loading Data"
   ]
  },
  {
   "cell_type": "code",
   "execution_count": 5,
   "id": "f1886ee0",
   "metadata": {
    "execution": {
     "iopub.execute_input": "2023-12-23T16:33:36.478314Z",
     "iopub.status.busy": "2023-12-23T16:33:36.477177Z",
     "iopub.status.idle": "2023-12-23T16:33:36.499215Z",
     "shell.execute_reply": "2023-12-23T16:33:36.497934Z"
    },
    "papermill": {
     "duration": 0.047581,
     "end_time": "2023-12-23T16:33:36.501955",
     "exception": false,
     "start_time": "2023-12-23T16:33:36.454374",
     "status": "completed"
    },
    "tags": []
   },
   "outputs": [],
   "source": [
    "df = pd.read_csv('/kaggle/input/lucknow-city-india-450-housing-prices-updated/lucknow_hosuing_prices - Main File.csv')"
   ]
  },
  {
   "cell_type": "code",
   "execution_count": 6,
   "id": "7ff0b016",
   "metadata": {
    "execution": {
     "iopub.execute_input": "2023-12-23T16:33:36.545367Z",
     "iopub.status.busy": "2023-12-23T16:33:36.544892Z",
     "iopub.status.idle": "2023-12-23T16:33:36.570299Z",
     "shell.execute_reply": "2023-12-23T16:33:36.569491Z"
    },
    "papermill": {
     "duration": 0.049932,
     "end_time": "2023-12-23T16:33:36.572763",
     "exception": false,
     "start_time": "2023-12-23T16:33:36.522831",
     "status": "completed"
    },
    "tags": []
   },
   "outputs": [
    {
     "data": {
      "text/html": [
       "<div>\n",
       "<style scoped>\n",
       "    .dataframe tbody tr th:only-of-type {\n",
       "        vertical-align: middle;\n",
       "    }\n",
       "\n",
       "    .dataframe tbody tr th {\n",
       "        vertical-align: top;\n",
       "    }\n",
       "\n",
       "    .dataframe thead th {\n",
       "        text-align: right;\n",
       "    }\n",
       "</style>\n",
       "<table border=\"1\" class=\"dataframe\">\n",
       "  <thead>\n",
       "    <tr style=\"text-align: right;\">\n",
       "      <th></th>\n",
       "      <th>bhk</th>\n",
       "      <th>type</th>\n",
       "      <th>area_sq_ft</th>\n",
       "      <th>location</th>\n",
       "      <th>price_lakh</th>\n",
       "      <th>carpet_area</th>\n",
       "      <th>status</th>\n",
       "      <th>bathrooms</th>\n",
       "    </tr>\n",
       "  </thead>\n",
       "  <tbody>\n",
       "    <tr>\n",
       "      <th>0</th>\n",
       "      <td>3</td>\n",
       "      <td>Independent</td>\n",
       "      <td>1100</td>\n",
       "      <td>Rajajipuram</td>\n",
       "      <td>33.0</td>\n",
       "      <td>720</td>\n",
       "      <td>StatusReady</td>\n",
       "      <td>2</td>\n",
       "    </tr>\n",
       "    <tr>\n",
       "      <th>1</th>\n",
       "      <td>3</td>\n",
       "      <td>Independent</td>\n",
       "      <td>1200</td>\n",
       "      <td>Sarojini Nagar</td>\n",
       "      <td>27.0</td>\n",
       "      <td>NaN</td>\n",
       "      <td>StatusUnder</td>\n",
       "      <td>2</td>\n",
       "    </tr>\n",
       "    <tr>\n",
       "      <th>2</th>\n",
       "      <td>2</td>\n",
       "      <td>Independent</td>\n",
       "      <td>1250</td>\n",
       "      <td>Jankipuram</td>\n",
       "      <td>50.0</td>\n",
       "      <td>1000</td>\n",
       "      <td>StatusReady</td>\n",
       "      <td>2</td>\n",
       "    </tr>\n",
       "    <tr>\n",
       "      <th>3</th>\n",
       "      <td>3</td>\n",
       "      <td>Independent</td>\n",
       "      <td>1320</td>\n",
       "      <td>Omaxe City</td>\n",
       "      <td>42.0</td>\n",
       "      <td>900</td>\n",
       "      <td>StatusReady</td>\n",
       "      <td>3</td>\n",
       "    </tr>\n",
       "    <tr>\n",
       "      <th>4</th>\n",
       "      <td>3</td>\n",
       "      <td>Independent</td>\n",
       "      <td>900</td>\n",
       "      <td>Vrindavan Yojna</td>\n",
       "      <td>48.0</td>\n",
       "      <td></td>\n",
       "      <td>StatusReady</td>\n",
       "      <td>2</td>\n",
       "    </tr>\n",
       "  </tbody>\n",
       "</table>\n",
       "</div>"
      ],
      "text/plain": [
       "   bhk         type  area_sq_ft         location  price_lakh carpet_area  \\\n",
       "0    3  Independent        1100      Rajajipuram        33.0         720   \n",
       "1    3  Independent        1200   Sarojini Nagar        27.0         NaN   \n",
       "2    2  Independent        1250       Jankipuram        50.0        1000   \n",
       "3    3  Independent        1320       Omaxe City        42.0         900   \n",
       "4    3  Independent         900  Vrindavan Yojna        48.0               \n",
       "\n",
       "        status  bathrooms  \n",
       "0  StatusReady          2  \n",
       "1  StatusUnder          2  \n",
       "2  StatusReady          2  \n",
       "3  StatusReady          3  \n",
       "4  StatusReady          2  "
      ]
     },
     "execution_count": 6,
     "metadata": {},
     "output_type": "execute_result"
    }
   ],
   "source": [
    "df.head()"
   ]
  },
  {
   "cell_type": "markdown",
   "id": "c6b10854",
   "metadata": {
    "papermill": {
     "duration": 0.020614,
     "end_time": "2023-12-23T16:33:36.614712",
     "exception": false,
     "start_time": "2023-12-23T16:33:36.594098",
     "status": "completed"
    },
    "tags": []
   },
   "source": [
    "## Preparing Data for ML Model Training"
   ]
  },
  {
   "cell_type": "code",
   "execution_count": 7,
   "id": "693d828e",
   "metadata": {
    "execution": {
     "iopub.execute_input": "2023-12-23T16:33:36.658830Z",
     "iopub.status.busy": "2023-12-23T16:33:36.657670Z",
     "iopub.status.idle": "2023-12-23T16:33:36.666541Z",
     "shell.execute_reply": "2023-12-23T16:33:36.665432Z"
    },
    "papermill": {
     "duration": 0.033334,
     "end_time": "2023-12-23T16:33:36.668888",
     "exception": false,
     "start_time": "2023-12-23T16:33:36.635554",
     "status": "completed"
    },
    "tags": []
   },
   "outputs": [
    {
     "data": {
      "text/plain": [
       "bhk              int64\n",
       "type            object\n",
       "area_sq_ft       int64\n",
       "location        object\n",
       "price_lakh     float64\n",
       "carpet_area     object\n",
       "status          object\n",
       "bathrooms        int64\n",
       "dtype: object"
      ]
     },
     "execution_count": 7,
     "metadata": {},
     "output_type": "execute_result"
    }
   ],
   "source": [
    "df.dtypes"
   ]
  },
  {
   "cell_type": "code",
   "execution_count": 8,
   "id": "3ddb0833",
   "metadata": {
    "execution": {
     "iopub.execute_input": "2023-12-23T16:33:36.774377Z",
     "iopub.status.busy": "2023-12-23T16:33:36.773220Z",
     "iopub.status.idle": "2023-12-23T16:33:36.784637Z",
     "shell.execute_reply": "2023-12-23T16:33:36.783593Z"
    },
    "papermill": {
     "duration": 0.096802,
     "end_time": "2023-12-23T16:33:36.786989",
     "exception": false,
     "start_time": "2023-12-23T16:33:36.690187",
     "status": "completed"
    },
    "tags": []
   },
   "outputs": [
    {
     "data": {
      "text/plain": [
       "bhk              0\n",
       "type             0\n",
       "area_sq_ft       0\n",
       "location         0\n",
       "price_lakh       0\n",
       "carpet_area    152\n",
       "status           0\n",
       "bathrooms        0\n",
       "dtype: int64"
      ]
     },
     "execution_count": 8,
     "metadata": {},
     "output_type": "execute_result"
    }
   ],
   "source": [
    "df.isna().sum()"
   ]
  },
  {
   "cell_type": "code",
   "execution_count": 9,
   "id": "aaedf112",
   "metadata": {
    "execution": {
     "iopub.execute_input": "2023-12-23T16:33:36.832010Z",
     "iopub.status.busy": "2023-12-23T16:33:36.831086Z",
     "iopub.status.idle": "2023-12-23T16:33:36.839700Z",
     "shell.execute_reply": "2023-12-23T16:33:36.838465Z"
    },
    "papermill": {
     "duration": 0.033893,
     "end_time": "2023-12-23T16:33:36.842266",
     "exception": false,
     "start_time": "2023-12-23T16:33:36.808373",
     "status": "completed"
    },
    "tags": []
   },
   "outputs": [],
   "source": [
    "df['carpet_area'] = df['carpet_area'].fillna(0)"
   ]
  },
  {
   "cell_type": "code",
   "execution_count": 10,
   "id": "ad92c04e",
   "metadata": {
    "execution": {
     "iopub.execute_input": "2023-12-23T16:33:36.888092Z",
     "iopub.status.busy": "2023-12-23T16:33:36.887362Z",
     "iopub.status.idle": "2023-12-23T16:33:36.895792Z",
     "shell.execute_reply": "2023-12-23T16:33:36.894678Z"
    },
    "papermill": {
     "duration": 0.034203,
     "end_time": "2023-12-23T16:33:36.898190",
     "exception": false,
     "start_time": "2023-12-23T16:33:36.863987",
     "status": "completed"
    },
    "tags": []
   },
   "outputs": [
    {
     "data": {
      "text/plain": [
       "bhk            0\n",
       "type           0\n",
       "area_sq_ft     0\n",
       "location       0\n",
       "price_lakh     0\n",
       "carpet_area    0\n",
       "status         0\n",
       "bathrooms      0\n",
       "dtype: int64"
      ]
     },
     "execution_count": 10,
     "metadata": {},
     "output_type": "execute_result"
    }
   ],
   "source": [
    "df.isna().sum()"
   ]
  },
  {
   "cell_type": "code",
   "execution_count": 11,
   "id": "67e633f6",
   "metadata": {
    "execution": {
     "iopub.execute_input": "2023-12-23T16:33:36.944138Z",
     "iopub.status.busy": "2023-12-23T16:33:36.943720Z",
     "iopub.status.idle": "2023-12-23T16:33:36.954936Z",
     "shell.execute_reply": "2023-12-23T16:33:36.953708Z"
    },
    "papermill": {
     "duration": 0.036966,
     "end_time": "2023-12-23T16:33:36.957483",
     "exception": false,
     "start_time": "2023-12-23T16:33:36.920517",
     "status": "completed"
    },
    "tags": []
   },
   "outputs": [
    {
     "data": {
      "text/plain": [
       "array(['720', 0, '1000', '900', ' ', '1120', '300', '600', '800', '840',\n",
       "       '1250', '750', '950', '630', '1100', '500', '700', '920', '1160',\n",
       "       '650', '1010', '1025', '875', '850', '620', '749', '835', '1080',\n",
       "       '622', '820', '680', '799', '999', '740', '934', '790', '1200',\n",
       "       '704', '734', '977', '430', '220', '1008', '936', '1500', '504',\n",
       "       '420', '748', '924', '930', '422', '775', '1124', '960', '395',\n",
       "       '375', '860', '400', '60', '966', '975', '1175', '880', '980',\n",
       "       '580', '1230', '100', '521', '890', '816', '275', '1143', '440',\n",
       "       '1015', '786'], dtype=object)"
      ]
     },
     "execution_count": 11,
     "metadata": {},
     "output_type": "execute_result"
    }
   ],
   "source": [
    "df['carpet_area'].unique()"
   ]
  },
  {
   "cell_type": "code",
   "execution_count": 12,
   "id": "63a45317",
   "metadata": {
    "execution": {
     "iopub.execute_input": "2023-12-23T16:33:37.004453Z",
     "iopub.status.busy": "2023-12-23T16:33:37.003387Z",
     "iopub.status.idle": "2023-12-23T16:33:37.010007Z",
     "shell.execute_reply": "2023-12-23T16:33:37.008697Z"
    },
    "papermill": {
     "duration": 0.032632,
     "end_time": "2023-12-23T16:33:37.012387",
     "exception": false,
     "start_time": "2023-12-23T16:33:36.979755",
     "status": "completed"
    },
    "tags": []
   },
   "outputs": [],
   "source": [
    "df['carpet_area'] = df['carpet_area'].replace(' ',0)"
   ]
  },
  {
   "cell_type": "code",
   "execution_count": 13,
   "id": "d187c7ed",
   "metadata": {
    "execution": {
     "iopub.execute_input": "2023-12-23T16:33:37.059190Z",
     "iopub.status.busy": "2023-12-23T16:33:37.058762Z",
     "iopub.status.idle": "2023-12-23T16:33:37.064739Z",
     "shell.execute_reply": "2023-12-23T16:33:37.063588Z"
    },
    "papermill": {
     "duration": 0.032111,
     "end_time": "2023-12-23T16:33:37.067202",
     "exception": false,
     "start_time": "2023-12-23T16:33:37.035091",
     "status": "completed"
    },
    "tags": []
   },
   "outputs": [],
   "source": [
    "df['carpet_area'] = df['carpet_area'].astype('float')"
   ]
  },
  {
   "cell_type": "code",
   "execution_count": 14,
   "id": "577837a7",
   "metadata": {
    "execution": {
     "iopub.execute_input": "2023-12-23T16:33:37.114865Z",
     "iopub.status.busy": "2023-12-23T16:33:37.114451Z",
     "iopub.status.idle": "2023-12-23T16:33:37.132101Z",
     "shell.execute_reply": "2023-12-23T16:33:37.130829Z"
    },
    "papermill": {
     "duration": 0.04445,
     "end_time": "2023-12-23T16:33:37.134903",
     "exception": false,
     "start_time": "2023-12-23T16:33:37.090453",
     "status": "completed"
    },
    "tags": []
   },
   "outputs": [],
   "source": [
    "# One Hot Encoding For Linear Regression\n",
    "df_num = pd.get_dummies(df,dtype=int,drop_first = True)"
   ]
  },
  {
   "cell_type": "code",
   "execution_count": 15,
   "id": "466efc2b",
   "metadata": {
    "execution": {
     "iopub.execute_input": "2023-12-23T16:33:37.182741Z",
     "iopub.status.busy": "2023-12-23T16:33:37.182290Z",
     "iopub.status.idle": "2023-12-23T16:33:37.207856Z",
     "shell.execute_reply": "2023-12-23T16:33:37.206659Z"
    },
    "papermill": {
     "duration": 0.053681,
     "end_time": "2023-12-23T16:33:37.210567",
     "exception": false,
     "start_time": "2023-12-23T16:33:37.156886",
     "status": "completed"
    },
    "tags": []
   },
   "outputs": [
    {
     "data": {
      "text/html": [
       "<div>\n",
       "<style scoped>\n",
       "    .dataframe tbody tr th:only-of-type {\n",
       "        vertical-align: middle;\n",
       "    }\n",
       "\n",
       "    .dataframe tbody tr th {\n",
       "        vertical-align: top;\n",
       "    }\n",
       "\n",
       "    .dataframe thead th {\n",
       "        text-align: right;\n",
       "    }\n",
       "</style>\n",
       "<table border=\"1\" class=\"dataframe\">\n",
       "  <thead>\n",
       "    <tr style=\"text-align: right;\">\n",
       "      <th></th>\n",
       "      <th>bhk</th>\n",
       "      <th>area_sq_ft</th>\n",
       "      <th>price_lakh</th>\n",
       "      <th>carpet_area</th>\n",
       "      <th>bathrooms</th>\n",
       "      <th>type_Studio</th>\n",
       "      <th>type_Villa</th>\n",
       "      <th>location_Aashiyana</th>\n",
       "      <th>location_Alambagh</th>\n",
       "      <th>location_Amity University Road</th>\n",
       "      <th>...</th>\n",
       "      <th>location_Sultanpur Road</th>\n",
       "      <th>location_Surendra Nagar</th>\n",
       "      <th>location_Takrohi</th>\n",
       "      <th>location_Tiwariganj</th>\n",
       "      <th>location_Uattardhona</th>\n",
       "      <th>location_Vijay Nagar</th>\n",
       "      <th>location_Vikas Nagar</th>\n",
       "      <th>location_Villa</th>\n",
       "      <th>location_Vrindavan Yojna</th>\n",
       "      <th>status_StatusUnder</th>\n",
       "    </tr>\n",
       "  </thead>\n",
       "  <tbody>\n",
       "    <tr>\n",
       "      <th>0</th>\n",
       "      <td>3</td>\n",
       "      <td>1100</td>\n",
       "      <td>33.0</td>\n",
       "      <td>720.0</td>\n",
       "      <td>2</td>\n",
       "      <td>0</td>\n",
       "      <td>0</td>\n",
       "      <td>0</td>\n",
       "      <td>0</td>\n",
       "      <td>0</td>\n",
       "      <td>...</td>\n",
       "      <td>0</td>\n",
       "      <td>0</td>\n",
       "      <td>0</td>\n",
       "      <td>0</td>\n",
       "      <td>0</td>\n",
       "      <td>0</td>\n",
       "      <td>0</td>\n",
       "      <td>0</td>\n",
       "      <td>0</td>\n",
       "      <td>0</td>\n",
       "    </tr>\n",
       "    <tr>\n",
       "      <th>1</th>\n",
       "      <td>3</td>\n",
       "      <td>1200</td>\n",
       "      <td>27.0</td>\n",
       "      <td>0.0</td>\n",
       "      <td>2</td>\n",
       "      <td>0</td>\n",
       "      <td>0</td>\n",
       "      <td>0</td>\n",
       "      <td>0</td>\n",
       "      <td>0</td>\n",
       "      <td>...</td>\n",
       "      <td>0</td>\n",
       "      <td>0</td>\n",
       "      <td>0</td>\n",
       "      <td>0</td>\n",
       "      <td>0</td>\n",
       "      <td>0</td>\n",
       "      <td>0</td>\n",
       "      <td>0</td>\n",
       "      <td>0</td>\n",
       "      <td>1</td>\n",
       "    </tr>\n",
       "    <tr>\n",
       "      <th>2</th>\n",
       "      <td>2</td>\n",
       "      <td>1250</td>\n",
       "      <td>50.0</td>\n",
       "      <td>1000.0</td>\n",
       "      <td>2</td>\n",
       "      <td>0</td>\n",
       "      <td>0</td>\n",
       "      <td>0</td>\n",
       "      <td>0</td>\n",
       "      <td>0</td>\n",
       "      <td>...</td>\n",
       "      <td>0</td>\n",
       "      <td>0</td>\n",
       "      <td>0</td>\n",
       "      <td>0</td>\n",
       "      <td>0</td>\n",
       "      <td>0</td>\n",
       "      <td>0</td>\n",
       "      <td>0</td>\n",
       "      <td>0</td>\n",
       "      <td>0</td>\n",
       "    </tr>\n",
       "    <tr>\n",
       "      <th>3</th>\n",
       "      <td>3</td>\n",
       "      <td>1320</td>\n",
       "      <td>42.0</td>\n",
       "      <td>900.0</td>\n",
       "      <td>3</td>\n",
       "      <td>0</td>\n",
       "      <td>0</td>\n",
       "      <td>0</td>\n",
       "      <td>0</td>\n",
       "      <td>0</td>\n",
       "      <td>...</td>\n",
       "      <td>0</td>\n",
       "      <td>0</td>\n",
       "      <td>0</td>\n",
       "      <td>0</td>\n",
       "      <td>0</td>\n",
       "      <td>0</td>\n",
       "      <td>0</td>\n",
       "      <td>0</td>\n",
       "      <td>0</td>\n",
       "      <td>0</td>\n",
       "    </tr>\n",
       "    <tr>\n",
       "      <th>4</th>\n",
       "      <td>3</td>\n",
       "      <td>900</td>\n",
       "      <td>48.0</td>\n",
       "      <td>0.0</td>\n",
       "      <td>2</td>\n",
       "      <td>0</td>\n",
       "      <td>0</td>\n",
       "      <td>0</td>\n",
       "      <td>0</td>\n",
       "      <td>0</td>\n",
       "      <td>...</td>\n",
       "      <td>0</td>\n",
       "      <td>0</td>\n",
       "      <td>0</td>\n",
       "      <td>0</td>\n",
       "      <td>0</td>\n",
       "      <td>0</td>\n",
       "      <td>0</td>\n",
       "      <td>0</td>\n",
       "      <td>1</td>\n",
       "      <td>0</td>\n",
       "    </tr>\n",
       "  </tbody>\n",
       "</table>\n",
       "<p>5 rows × 116 columns</p>\n",
       "</div>"
      ],
      "text/plain": [
       "   bhk  area_sq_ft  price_lakh  carpet_area  bathrooms  type_Studio  \\\n",
       "0    3        1100        33.0        720.0          2            0   \n",
       "1    3        1200        27.0          0.0          2            0   \n",
       "2    2        1250        50.0       1000.0          2            0   \n",
       "3    3        1320        42.0        900.0          3            0   \n",
       "4    3         900        48.0          0.0          2            0   \n",
       "\n",
       "   type_Villa  location_Aashiyana  location_Alambagh  \\\n",
       "0           0                   0                  0   \n",
       "1           0                   0                  0   \n",
       "2           0                   0                  0   \n",
       "3           0                   0                  0   \n",
       "4           0                   0                  0   \n",
       "\n",
       "   location_Amity University Road  ...  location_Sultanpur Road  \\\n",
       "0                               0  ...                        0   \n",
       "1                               0  ...                        0   \n",
       "2                               0  ...                        0   \n",
       "3                               0  ...                        0   \n",
       "4                               0  ...                        0   \n",
       "\n",
       "   location_Surendra Nagar  location_Takrohi  location_Tiwariganj  \\\n",
       "0                        0                 0                    0   \n",
       "1                        0                 0                    0   \n",
       "2                        0                 0                    0   \n",
       "3                        0                 0                    0   \n",
       "4                        0                 0                    0   \n",
       "\n",
       "   location_Uattardhona  location_Vijay Nagar  location_Vikas Nagar  \\\n",
       "0                     0                     0                     0   \n",
       "1                     0                     0                     0   \n",
       "2                     0                     0                     0   \n",
       "3                     0                     0                     0   \n",
       "4                     0                     0                     0   \n",
       "\n",
       "   location_Villa  location_Vrindavan Yojna  status_StatusUnder  \n",
       "0               0                         0                   0  \n",
       "1               0                         0                   1  \n",
       "2               0                         0                   0  \n",
       "3               0                         0                   0  \n",
       "4               0                         1                   0  \n",
       "\n",
       "[5 rows x 116 columns]"
      ]
     },
     "execution_count": 15,
     "metadata": {},
     "output_type": "execute_result"
    }
   ],
   "source": [
    "df_num.head()"
   ]
  },
  {
   "cell_type": "code",
   "execution_count": 16,
   "id": "923d7bca",
   "metadata": {
    "execution": {
     "iopub.execute_input": "2023-12-23T16:33:37.257632Z",
     "iopub.status.busy": "2023-12-23T16:33:37.257184Z",
     "iopub.status.idle": "2023-12-23T16:33:37.264646Z",
     "shell.execute_reply": "2023-12-23T16:33:37.263493Z"
    },
    "papermill": {
     "duration": 0.034136,
     "end_time": "2023-12-23T16:33:37.267105",
     "exception": false,
     "start_time": "2023-12-23T16:33:37.232969",
     "status": "completed"
    },
    "tags": []
   },
   "outputs": [
    {
     "data": {
      "text/plain": [
       "116"
      ]
     },
     "execution_count": 16,
     "metadata": {},
     "output_type": "execute_result"
    }
   ],
   "source": [
    "#Checking number of columns after one hot encoding\n",
    "len(df_num.columns)"
   ]
  },
  {
   "cell_type": "code",
   "execution_count": 17,
   "id": "be0d0144",
   "metadata": {
    "execution": {
     "iopub.execute_input": "2023-12-23T16:33:37.314291Z",
     "iopub.status.busy": "2023-12-23T16:33:37.313911Z",
     "iopub.status.idle": "2023-12-23T16:33:37.321133Z",
     "shell.execute_reply": "2023-12-23T16:33:37.319997Z"
    },
    "papermill": {
     "duration": 0.033916,
     "end_time": "2023-12-23T16:33:37.323470",
     "exception": false,
     "start_time": "2023-12-23T16:33:37.289554",
     "status": "completed"
    },
    "tags": []
   },
   "outputs": [],
   "source": [
    "x = df_num.drop(columns='price_lakh')\n",
    "y = df_num['price_lakh']"
   ]
  },
  {
   "cell_type": "markdown",
   "id": "dba9323d",
   "metadata": {
    "papermill": {
     "duration": 0.022099,
     "end_time": "2023-12-23T16:33:37.368211",
     "exception": false,
     "start_time": "2023-12-23T16:33:37.346112",
     "status": "completed"
    },
    "tags": []
   },
   "source": [
    "## Training and Testing Linear Regression Model"
   ]
  },
  {
   "cell_type": "code",
   "execution_count": 18,
   "id": "410acd76",
   "metadata": {
    "execution": {
     "iopub.execute_input": "2023-12-23T16:33:37.414812Z",
     "iopub.status.busy": "2023-12-23T16:33:37.414433Z",
     "iopub.status.idle": "2023-12-23T16:33:37.419722Z",
     "shell.execute_reply": "2023-12-23T16:33:37.418563Z"
    },
    "papermill": {
     "duration": 0.031709,
     "end_time": "2023-12-23T16:33:37.422267",
     "exception": false,
     "start_time": "2023-12-23T16:33:37.390558",
     "status": "completed"
    },
    "tags": []
   },
   "outputs": [],
   "source": [
    "model = LinearRegression()"
   ]
  },
  {
   "cell_type": "code",
   "execution_count": 19,
   "id": "b5d0fd2f",
   "metadata": {
    "execution": {
     "iopub.execute_input": "2023-12-23T16:33:37.469820Z",
     "iopub.status.busy": "2023-12-23T16:33:37.469430Z",
     "iopub.status.idle": "2023-12-23T16:33:37.632449Z",
     "shell.execute_reply": "2023-12-23T16:33:37.630923Z"
    },
    "papermill": {
     "duration": 0.19269,
     "end_time": "2023-12-23T16:33:37.637471",
     "exception": false,
     "start_time": "2023-12-23T16:33:37.444781",
     "status": "completed"
    },
    "tags": []
   },
   "outputs": [
    {
     "name": "stdout",
     "output_type": "stream",
     "text": [
      "scores are [-5.38807594e-01 -1.80033994e+19  4.14101987e-01 -1.85842035e+16\n",
      "  3.93080326e-01]\n",
      "mean score is  -3.604396711624903e+18\n"
     ]
    }
   ],
   "source": [
    "scores = cross_val_score(model,x,y,cv=5)\n",
    "print('scores are',scores)\n",
    "print('mean score is ',scores.mean())"
   ]
  },
  {
   "cell_type": "markdown",
   "id": "43bac52d",
   "metadata": {
    "papermill": {
     "duration": 0.031608,
     "end_time": "2023-12-23T16:33:37.759257",
     "exception": false,
     "start_time": "2023-12-23T16:33:37.727649",
     "status": "completed"
    },
    "tags": []
   },
   "source": [
    "**Very Bad Model Score beause of too many different categorical values.**"
   ]
  },
  {
   "cell_type": "markdown",
   "id": "1f1b2967",
   "metadata": {
    "papermill": {
     "duration": 0.022156,
     "end_time": "2023-12-23T16:33:37.804470",
     "exception": false,
     "start_time": "2023-12-23T16:33:37.782314",
     "status": "completed"
    },
    "tags": []
   },
   "source": [
    "## Bad Model Score : Try Solution 1 (Applying PCA)"
   ]
  },
  {
   "cell_type": "code",
   "execution_count": 20,
   "id": "fbaaed4e",
   "metadata": {
    "execution": {
     "iopub.execute_input": "2023-12-23T16:33:37.851510Z",
     "iopub.status.busy": "2023-12-23T16:33:37.851003Z",
     "iopub.status.idle": "2023-12-23T16:33:37.857911Z",
     "shell.execute_reply": "2023-12-23T16:33:37.856727Z"
    },
    "papermill": {
     "duration": 0.033457,
     "end_time": "2023-12-23T16:33:37.860386",
     "exception": false,
     "start_time": "2023-12-23T16:33:37.826929",
     "status": "completed"
    },
    "tags": []
   },
   "outputs": [],
   "source": [
    "to_be_scaled = x[['area_sq_ft','carpet_area']]"
   ]
  },
  {
   "cell_type": "code",
   "execution_count": 21,
   "id": "1289c5da",
   "metadata": {
    "execution": {
     "iopub.execute_input": "2023-12-23T16:33:37.907913Z",
     "iopub.status.busy": "2023-12-23T16:33:37.907520Z",
     "iopub.status.idle": "2023-12-23T16:33:37.911975Z",
     "shell.execute_reply": "2023-12-23T16:33:37.910838Z"
    },
    "papermill": {
     "duration": 0.031104,
     "end_time": "2023-12-23T16:33:37.914453",
     "exception": false,
     "start_time": "2023-12-23T16:33:37.883349",
     "status": "completed"
    },
    "tags": []
   },
   "outputs": [],
   "source": [
    "scale = StandardScaler()"
   ]
  },
  {
   "cell_type": "code",
   "execution_count": 22,
   "id": "678e886d",
   "metadata": {
    "execution": {
     "iopub.execute_input": "2023-12-23T16:33:37.961857Z",
     "iopub.status.busy": "2023-12-23T16:33:37.961457Z",
     "iopub.status.idle": "2023-12-23T16:33:37.970726Z",
     "shell.execute_reply": "2023-12-23T16:33:37.969714Z"
    },
    "papermill": {
     "duration": 0.03525,
     "end_time": "2023-12-23T16:33:37.973000",
     "exception": false,
     "start_time": "2023-12-23T16:33:37.937750",
     "status": "completed"
    },
    "tags": []
   },
   "outputs": [],
   "source": [
    "scaled = scale.fit_transform(to_be_scaled)"
   ]
  },
  {
   "cell_type": "code",
   "execution_count": 23,
   "id": "279103de",
   "metadata": {
    "execution": {
     "iopub.execute_input": "2023-12-23T16:33:38.020112Z",
     "iopub.status.busy": "2023-12-23T16:33:38.019465Z",
     "iopub.status.idle": "2023-12-23T16:33:38.024771Z",
     "shell.execute_reply": "2023-12-23T16:33:38.023971Z"
    },
    "papermill": {
     "duration": 0.031709,
     "end_time": "2023-12-23T16:33:38.027083",
     "exception": false,
     "start_time": "2023-12-23T16:33:37.995374",
     "status": "completed"
    },
    "tags": []
   },
   "outputs": [],
   "source": [
    "x[['area_sq_ft','carpet_area']] = scaled"
   ]
  },
  {
   "cell_type": "code",
   "execution_count": 24,
   "id": "e0bc394e",
   "metadata": {
    "execution": {
     "iopub.execute_input": "2023-12-23T16:33:38.075076Z",
     "iopub.status.busy": "2023-12-23T16:33:38.074442Z",
     "iopub.status.idle": "2023-12-23T16:33:38.081357Z",
     "shell.execute_reply": "2023-12-23T16:33:38.080023Z"
    },
    "papermill": {
     "duration": 0.033205,
     "end_time": "2023-12-23T16:33:38.083682",
     "exception": false,
     "start_time": "2023-12-23T16:33:38.050477",
     "status": "completed"
    },
    "tags": []
   },
   "outputs": [
    {
     "data": {
      "text/plain": [
       "(474, 115)"
      ]
     },
     "execution_count": 24,
     "metadata": {},
     "output_type": "execute_result"
    }
   ],
   "source": [
    "x.shape"
   ]
  },
  {
   "cell_type": "code",
   "execution_count": 25,
   "id": "15ee9777",
   "metadata": {
    "execution": {
     "iopub.execute_input": "2023-12-23T16:33:38.130989Z",
     "iopub.status.busy": "2023-12-23T16:33:38.130178Z",
     "iopub.status.idle": "2023-12-23T16:33:38.135327Z",
     "shell.execute_reply": "2023-12-23T16:33:38.134252Z"
    },
    "papermill": {
     "duration": 0.031472,
     "end_time": "2023-12-23T16:33:38.137702",
     "exception": false,
     "start_time": "2023-12-23T16:33:38.106230",
     "status": "completed"
    },
    "tags": []
   },
   "outputs": [],
   "source": [
    "# Loading pca object\n",
    "pca = PCA(0.9)"
   ]
  },
  {
   "cell_type": "code",
   "execution_count": 26,
   "id": "7ab46408",
   "metadata": {
    "execution": {
     "iopub.execute_input": "2023-12-23T16:33:38.187298Z",
     "iopub.status.busy": "2023-12-23T16:33:38.186921Z",
     "iopub.status.idle": "2023-12-23T16:33:38.211106Z",
     "shell.execute_reply": "2023-12-23T16:33:38.209511Z"
    },
    "papermill": {
     "duration": 0.054617,
     "end_time": "2023-12-23T16:33:38.215289",
     "exception": false,
     "start_time": "2023-12-23T16:33:38.160672",
     "status": "completed"
    },
    "tags": []
   },
   "outputs": [],
   "source": [
    "x_pca = pca.fit_transform(x)"
   ]
  },
  {
   "cell_type": "code",
   "execution_count": 27,
   "id": "639ca0fd",
   "metadata": {
    "execution": {
     "iopub.execute_input": "2023-12-23T16:33:38.313370Z",
     "iopub.status.busy": "2023-12-23T16:33:38.312699Z",
     "iopub.status.idle": "2023-12-23T16:33:38.321936Z",
     "shell.execute_reply": "2023-12-23T16:33:38.320820Z"
    },
    "papermill": {
     "duration": 0.062436,
     "end_time": "2023-12-23T16:33:38.325630",
     "exception": false,
     "start_time": "2023-12-23T16:33:38.263194",
     "status": "completed"
    },
    "tags": []
   },
   "outputs": [
    {
     "data": {
      "text/plain": [
       "(474, 20)"
      ]
     },
     "execution_count": 27,
     "metadata": {},
     "output_type": "execute_result"
    }
   ],
   "source": [
    "x_pca.shape"
   ]
  },
  {
   "cell_type": "code",
   "execution_count": 28,
   "id": "08779ca2",
   "metadata": {
    "execution": {
     "iopub.execute_input": "2023-12-23T16:33:38.374589Z",
     "iopub.status.busy": "2023-12-23T16:33:38.373569Z",
     "iopub.status.idle": "2023-12-23T16:33:38.410491Z",
     "shell.execute_reply": "2023-12-23T16:33:38.409381Z"
    },
    "papermill": {
     "duration": 0.063751,
     "end_time": "2023-12-23T16:33:38.413320",
     "exception": false,
     "start_time": "2023-12-23T16:33:38.349569",
     "status": "completed"
    },
    "tags": []
   },
   "outputs": [
    {
     "name": "stdout",
     "output_type": "stream",
     "text": [
      "scores are [-5.38807594e-01 -1.80033994e+19  4.14101987e-01 -1.85842035e+16\n",
      "  3.93080326e-01]\n",
      "mean score is  -3.604396711624903e+18\n"
     ]
    }
   ],
   "source": [
    "cross_val_score(LinearRegression(),x_pca,y,cv=10)\n",
    "print('scores are',scores)\n",
    "print('mean score is ',scores.mean())"
   ]
  },
  {
   "cell_type": "markdown",
   "id": "f12a6286",
   "metadata": {
    "papermill": {
     "duration": 0.022516,
     "end_time": "2023-12-23T16:33:38.458687",
     "exception": false,
     "start_time": "2023-12-23T16:33:38.436171",
     "status": "completed"
    },
    "tags": []
   },
   "source": [
    "**Very bad score even after applying PCA.**"
   ]
  },
  {
   "cell_type": "markdown",
   "id": "7c7ce83e",
   "metadata": {
    "papermill": {
     "duration": 0.022352,
     "end_time": "2023-12-23T16:33:38.503723",
     "exception": false,
     "start_time": "2023-12-23T16:33:38.481371",
     "status": "completed"
    },
    "tags": []
   },
   "source": [
    "## Bad Model Score : Try Solution 2 (Check for Overfitting)"
   ]
  },
  {
   "cell_type": "code",
   "execution_count": 29,
   "id": "47f71a1d",
   "metadata": {
    "execution": {
     "iopub.execute_input": "2023-12-23T16:33:38.551339Z",
     "iopub.status.busy": "2023-12-23T16:33:38.550905Z",
     "iopub.status.idle": "2023-12-23T16:33:38.557855Z",
     "shell.execute_reply": "2023-12-23T16:33:38.556914Z"
    },
    "papermill": {
     "duration": 0.033796,
     "end_time": "2023-12-23T16:33:38.560088",
     "exception": false,
     "start_time": "2023-12-23T16:33:38.526292",
     "status": "completed"
    },
    "tags": []
   },
   "outputs": [],
   "source": [
    "X_train,X_test, y_train,y_test = train_test_split(x,y,test_size=0.2)"
   ]
  },
  {
   "cell_type": "code",
   "execution_count": 30,
   "id": "372344b1",
   "metadata": {
    "execution": {
     "iopub.execute_input": "2023-12-23T16:33:38.607833Z",
     "iopub.status.busy": "2023-12-23T16:33:38.607138Z",
     "iopub.status.idle": "2023-12-23T16:33:38.631901Z",
     "shell.execute_reply": "2023-12-23T16:33:38.630341Z"
    },
    "papermill": {
     "duration": 0.05298,
     "end_time": "2023-12-23T16:33:38.635953",
     "exception": false,
     "start_time": "2023-12-23T16:33:38.582973",
     "status": "completed"
    },
    "tags": []
   },
   "outputs": [
    {
     "data": {
      "text/html": [
       "<style>#sk-container-id-1 {color: black;background-color: white;}#sk-container-id-1 pre{padding: 0;}#sk-container-id-1 div.sk-toggleable {background-color: white;}#sk-container-id-1 label.sk-toggleable__label {cursor: pointer;display: block;width: 100%;margin-bottom: 0;padding: 0.3em;box-sizing: border-box;text-align: center;}#sk-container-id-1 label.sk-toggleable__label-arrow:before {content: \"▸\";float: left;margin-right: 0.25em;color: #696969;}#sk-container-id-1 label.sk-toggleable__label-arrow:hover:before {color: black;}#sk-container-id-1 div.sk-estimator:hover label.sk-toggleable__label-arrow:before {color: black;}#sk-container-id-1 div.sk-toggleable__content {max-height: 0;max-width: 0;overflow: hidden;text-align: left;background-color: #f0f8ff;}#sk-container-id-1 div.sk-toggleable__content pre {margin: 0.2em;color: black;border-radius: 0.25em;background-color: #f0f8ff;}#sk-container-id-1 input.sk-toggleable__control:checked~div.sk-toggleable__content {max-height: 200px;max-width: 100%;overflow: auto;}#sk-container-id-1 input.sk-toggleable__control:checked~label.sk-toggleable__label-arrow:before {content: \"▾\";}#sk-container-id-1 div.sk-estimator input.sk-toggleable__control:checked~label.sk-toggleable__label {background-color: #d4ebff;}#sk-container-id-1 div.sk-label input.sk-toggleable__control:checked~label.sk-toggleable__label {background-color: #d4ebff;}#sk-container-id-1 input.sk-hidden--visually {border: 0;clip: rect(1px 1px 1px 1px);clip: rect(1px, 1px, 1px, 1px);height: 1px;margin: -1px;overflow: hidden;padding: 0;position: absolute;width: 1px;}#sk-container-id-1 div.sk-estimator {font-family: monospace;background-color: #f0f8ff;border: 1px dotted black;border-radius: 0.25em;box-sizing: border-box;margin-bottom: 0.5em;}#sk-container-id-1 div.sk-estimator:hover {background-color: #d4ebff;}#sk-container-id-1 div.sk-parallel-item::after {content: \"\";width: 100%;border-bottom: 1px solid gray;flex-grow: 1;}#sk-container-id-1 div.sk-label:hover label.sk-toggleable__label {background-color: #d4ebff;}#sk-container-id-1 div.sk-serial::before {content: \"\";position: absolute;border-left: 1px solid gray;box-sizing: border-box;top: 0;bottom: 0;left: 50%;z-index: 0;}#sk-container-id-1 div.sk-serial {display: flex;flex-direction: column;align-items: center;background-color: white;padding-right: 0.2em;padding-left: 0.2em;position: relative;}#sk-container-id-1 div.sk-item {position: relative;z-index: 1;}#sk-container-id-1 div.sk-parallel {display: flex;align-items: stretch;justify-content: center;background-color: white;position: relative;}#sk-container-id-1 div.sk-item::before, #sk-container-id-1 div.sk-parallel-item::before {content: \"\";position: absolute;border-left: 1px solid gray;box-sizing: border-box;top: 0;bottom: 0;left: 50%;z-index: -1;}#sk-container-id-1 div.sk-parallel-item {display: flex;flex-direction: column;z-index: 1;position: relative;background-color: white;}#sk-container-id-1 div.sk-parallel-item:first-child::after {align-self: flex-end;width: 50%;}#sk-container-id-1 div.sk-parallel-item:last-child::after {align-self: flex-start;width: 50%;}#sk-container-id-1 div.sk-parallel-item:only-child::after {width: 0;}#sk-container-id-1 div.sk-dashed-wrapped {border: 1px dashed gray;margin: 0 0.4em 0.5em 0.4em;box-sizing: border-box;padding-bottom: 0.4em;background-color: white;}#sk-container-id-1 div.sk-label label {font-family: monospace;font-weight: bold;display: inline-block;line-height: 1.2em;}#sk-container-id-1 div.sk-label-container {text-align: center;}#sk-container-id-1 div.sk-container {/* jupyter's `normalize.less` sets `[hidden] { display: none; }` but bootstrap.min.css set `[hidden] { display: none !important; }` so we also need the `!important` here to be able to override the default hidden behavior on the sphinx rendered scikit-learn.org. See: https://github.com/scikit-learn/scikit-learn/issues/21755 */display: inline-block !important;position: relative;}#sk-container-id-1 div.sk-text-repr-fallback {display: none;}</style><div id=\"sk-container-id-1\" class=\"sk-top-container\"><div class=\"sk-text-repr-fallback\"><pre>LinearRegression()</pre><b>In a Jupyter environment, please rerun this cell to show the HTML representation or trust the notebook. <br />On GitHub, the HTML representation is unable to render, please try loading this page with nbviewer.org.</b></div><div class=\"sk-container\" hidden><div class=\"sk-item\"><div class=\"sk-estimator sk-toggleable\"><input class=\"sk-toggleable__control sk-hidden--visually\" id=\"sk-estimator-id-1\" type=\"checkbox\" checked><label for=\"sk-estimator-id-1\" class=\"sk-toggleable__label sk-toggleable__label-arrow\">LinearRegression</label><div class=\"sk-toggleable__content\"><pre>LinearRegression()</pre></div></div></div></div></div>"
      ],
      "text/plain": [
       "LinearRegression()"
      ]
     },
     "execution_count": 30,
     "metadata": {},
     "output_type": "execute_result"
    }
   ],
   "source": [
    "model.fit(X_train,y_train)"
   ]
  },
  {
   "cell_type": "code",
   "execution_count": 31,
   "id": "02dd98f8",
   "metadata": {
    "execution": {
     "iopub.execute_input": "2023-12-23T16:33:38.738145Z",
     "iopub.status.busy": "2023-12-23T16:33:38.737483Z",
     "iopub.status.idle": "2023-12-23T16:33:38.757691Z",
     "shell.execute_reply": "2023-12-23T16:33:38.755470Z"
    },
    "papermill": {
     "duration": 0.076333,
     "end_time": "2023-12-23T16:33:38.762176",
     "exception": false,
     "start_time": "2023-12-23T16:33:38.685843",
     "status": "completed"
    },
    "tags": []
   },
   "outputs": [
    {
     "data": {
      "text/plain": [
       "0.8302978371635847"
      ]
     },
     "execution_count": 31,
     "metadata": {},
     "output_type": "execute_result"
    }
   ],
   "source": [
    "model.score(X_train,y_train)"
   ]
  },
  {
   "cell_type": "code",
   "execution_count": 32,
   "id": "1ed29de0",
   "metadata": {
    "execution": {
     "iopub.execute_input": "2023-12-23T16:33:38.864083Z",
     "iopub.status.busy": "2023-12-23T16:33:38.863339Z",
     "iopub.status.idle": "2023-12-23T16:33:38.886826Z",
     "shell.execute_reply": "2023-12-23T16:33:38.885189Z"
    },
    "papermill": {
     "duration": 0.080016,
     "end_time": "2023-12-23T16:33:38.892046",
     "exception": false,
     "start_time": "2023-12-23T16:33:38.812030",
     "status": "completed"
    },
    "tags": []
   },
   "outputs": [
    {
     "data": {
      "text/plain": [
       "-3.1258810375549642e+22"
      ]
     },
     "execution_count": 32,
     "metadata": {},
     "output_type": "execute_result"
    }
   ],
   "source": [
    "model.score(X_test,y_test)"
   ]
  },
  {
   "cell_type": "markdown",
   "id": "9844e02c",
   "metadata": {
    "papermill": {
     "duration": 0.050035,
     "end_time": "2023-12-23T16:33:38.994820",
     "exception": false,
     "start_time": "2023-12-23T16:33:38.944785",
     "status": "completed"
    },
    "tags": []
   },
   "source": [
    "**Since, training score is very very large comparing to testing score, it indicates the model is overfitted.**"
   ]
  },
  {
   "cell_type": "markdown",
   "id": "0261ab7c",
   "metadata": {
    "papermill": {
     "duration": 0.023553,
     "end_time": "2023-12-23T16:33:39.043711",
     "exception": false,
     "start_time": "2023-12-23T16:33:39.020158",
     "status": "completed"
    },
    "tags": []
   },
   "source": [
    "## Overfit Model to Balance Fit (Lasso and Ridge)"
   ]
  },
  {
   "cell_type": "code",
   "execution_count": 33,
   "id": "ae0a7f79",
   "metadata": {
    "execution": {
     "iopub.execute_input": "2023-12-23T16:33:39.092175Z",
     "iopub.status.busy": "2023-12-23T16:33:39.091625Z",
     "iopub.status.idle": "2023-12-23T16:33:39.096574Z",
     "shell.execute_reply": "2023-12-23T16:33:39.095756Z"
    },
    "papermill": {
     "duration": 0.031547,
     "end_time": "2023-12-23T16:33:39.098685",
     "exception": false,
     "start_time": "2023-12-23T16:33:39.067138",
     "status": "completed"
    },
    "tags": []
   },
   "outputs": [],
   "source": [
    "model_ridge = Ridge(alpha=1)"
   ]
  },
  {
   "cell_type": "code",
   "execution_count": 34,
   "id": "0ec930ca",
   "metadata": {
    "execution": {
     "iopub.execute_input": "2023-12-23T16:33:39.148341Z",
     "iopub.status.busy": "2023-12-23T16:33:39.147210Z",
     "iopub.status.idle": "2023-12-23T16:33:39.188152Z",
     "shell.execute_reply": "2023-12-23T16:33:39.186772Z"
    },
    "papermill": {
     "duration": 0.070006,
     "end_time": "2023-12-23T16:33:39.192292",
     "exception": false,
     "start_time": "2023-12-23T16:33:39.122286",
     "status": "completed"
    },
    "tags": []
   },
   "outputs": [
    {
     "data": {
      "text/html": [
       "<style>#sk-container-id-2 {color: black;background-color: white;}#sk-container-id-2 pre{padding: 0;}#sk-container-id-2 div.sk-toggleable {background-color: white;}#sk-container-id-2 label.sk-toggleable__label {cursor: pointer;display: block;width: 100%;margin-bottom: 0;padding: 0.3em;box-sizing: border-box;text-align: center;}#sk-container-id-2 label.sk-toggleable__label-arrow:before {content: \"▸\";float: left;margin-right: 0.25em;color: #696969;}#sk-container-id-2 label.sk-toggleable__label-arrow:hover:before {color: black;}#sk-container-id-2 div.sk-estimator:hover label.sk-toggleable__label-arrow:before {color: black;}#sk-container-id-2 div.sk-toggleable__content {max-height: 0;max-width: 0;overflow: hidden;text-align: left;background-color: #f0f8ff;}#sk-container-id-2 div.sk-toggleable__content pre {margin: 0.2em;color: black;border-radius: 0.25em;background-color: #f0f8ff;}#sk-container-id-2 input.sk-toggleable__control:checked~div.sk-toggleable__content {max-height: 200px;max-width: 100%;overflow: auto;}#sk-container-id-2 input.sk-toggleable__control:checked~label.sk-toggleable__label-arrow:before {content: \"▾\";}#sk-container-id-2 div.sk-estimator input.sk-toggleable__control:checked~label.sk-toggleable__label {background-color: #d4ebff;}#sk-container-id-2 div.sk-label input.sk-toggleable__control:checked~label.sk-toggleable__label {background-color: #d4ebff;}#sk-container-id-2 input.sk-hidden--visually {border: 0;clip: rect(1px 1px 1px 1px);clip: rect(1px, 1px, 1px, 1px);height: 1px;margin: -1px;overflow: hidden;padding: 0;position: absolute;width: 1px;}#sk-container-id-2 div.sk-estimator {font-family: monospace;background-color: #f0f8ff;border: 1px dotted black;border-radius: 0.25em;box-sizing: border-box;margin-bottom: 0.5em;}#sk-container-id-2 div.sk-estimator:hover {background-color: #d4ebff;}#sk-container-id-2 div.sk-parallel-item::after {content: \"\";width: 100%;border-bottom: 1px solid gray;flex-grow: 1;}#sk-container-id-2 div.sk-label:hover label.sk-toggleable__label {background-color: #d4ebff;}#sk-container-id-2 div.sk-serial::before {content: \"\";position: absolute;border-left: 1px solid gray;box-sizing: border-box;top: 0;bottom: 0;left: 50%;z-index: 0;}#sk-container-id-2 div.sk-serial {display: flex;flex-direction: column;align-items: center;background-color: white;padding-right: 0.2em;padding-left: 0.2em;position: relative;}#sk-container-id-2 div.sk-item {position: relative;z-index: 1;}#sk-container-id-2 div.sk-parallel {display: flex;align-items: stretch;justify-content: center;background-color: white;position: relative;}#sk-container-id-2 div.sk-item::before, #sk-container-id-2 div.sk-parallel-item::before {content: \"\";position: absolute;border-left: 1px solid gray;box-sizing: border-box;top: 0;bottom: 0;left: 50%;z-index: -1;}#sk-container-id-2 div.sk-parallel-item {display: flex;flex-direction: column;z-index: 1;position: relative;background-color: white;}#sk-container-id-2 div.sk-parallel-item:first-child::after {align-self: flex-end;width: 50%;}#sk-container-id-2 div.sk-parallel-item:last-child::after {align-self: flex-start;width: 50%;}#sk-container-id-2 div.sk-parallel-item:only-child::after {width: 0;}#sk-container-id-2 div.sk-dashed-wrapped {border: 1px dashed gray;margin: 0 0.4em 0.5em 0.4em;box-sizing: border-box;padding-bottom: 0.4em;background-color: white;}#sk-container-id-2 div.sk-label label {font-family: monospace;font-weight: bold;display: inline-block;line-height: 1.2em;}#sk-container-id-2 div.sk-label-container {text-align: center;}#sk-container-id-2 div.sk-container {/* jupyter's `normalize.less` sets `[hidden] { display: none; }` but bootstrap.min.css set `[hidden] { display: none !important; }` so we also need the `!important` here to be able to override the default hidden behavior on the sphinx rendered scikit-learn.org. See: https://github.com/scikit-learn/scikit-learn/issues/21755 */display: inline-block !important;position: relative;}#sk-container-id-2 div.sk-text-repr-fallback {display: none;}</style><div id=\"sk-container-id-2\" class=\"sk-top-container\"><div class=\"sk-text-repr-fallback\"><pre>Ridge(alpha=1)</pre><b>In a Jupyter environment, please rerun this cell to show the HTML representation or trust the notebook. <br />On GitHub, the HTML representation is unable to render, please try loading this page with nbviewer.org.</b></div><div class=\"sk-container\" hidden><div class=\"sk-item\"><div class=\"sk-estimator sk-toggleable\"><input class=\"sk-toggleable__control sk-hidden--visually\" id=\"sk-estimator-id-2\" type=\"checkbox\" checked><label for=\"sk-estimator-id-2\" class=\"sk-toggleable__label sk-toggleable__label-arrow\">Ridge</label><div class=\"sk-toggleable__content\"><pre>Ridge(alpha=1)</pre></div></div></div></div></div>"
      ],
      "text/plain": [
       "Ridge(alpha=1)"
      ]
     },
     "execution_count": 34,
     "metadata": {},
     "output_type": "execute_result"
    }
   ],
   "source": [
    "model_ridge.fit(X_train,y_train)"
   ]
  },
  {
   "cell_type": "code",
   "execution_count": 35,
   "id": "e0352e81",
   "metadata": {
    "execution": {
     "iopub.execute_input": "2023-12-23T16:33:39.313809Z",
     "iopub.status.busy": "2023-12-23T16:33:39.313356Z",
     "iopub.status.idle": "2023-12-23T16:33:39.327549Z",
     "shell.execute_reply": "2023-12-23T16:33:39.326416Z"
    },
    "papermill": {
     "duration": 0.049473,
     "end_time": "2023-12-23T16:33:39.333178",
     "exception": false,
     "start_time": "2023-12-23T16:33:39.283705",
     "status": "completed"
    },
    "tags": []
   },
   "outputs": [
    {
     "data": {
      "text/plain": [
       "0.8021427003033593"
      ]
     },
     "execution_count": 35,
     "metadata": {},
     "output_type": "execute_result"
    }
   ],
   "source": [
    "model_ridge.score(X_train,y_train)"
   ]
  },
  {
   "cell_type": "code",
   "execution_count": 36,
   "id": "71bbc0d5",
   "metadata": {
    "execution": {
     "iopub.execute_input": "2023-12-23T16:33:39.438913Z",
     "iopub.status.busy": "2023-12-23T16:33:39.438110Z",
     "iopub.status.idle": "2023-12-23T16:33:39.455130Z",
     "shell.execute_reply": "2023-12-23T16:33:39.453898Z"
    },
    "papermill": {
     "duration": 0.074135,
     "end_time": "2023-12-23T16:33:39.458186",
     "exception": false,
     "start_time": "2023-12-23T16:33:39.384051",
     "status": "completed"
    },
    "tags": []
   },
   "outputs": [
    {
     "data": {
      "text/plain": [
       "0.5121505618801915"
      ]
     },
     "execution_count": 36,
     "metadata": {},
     "output_type": "execute_result"
    }
   ],
   "source": [
    "model_ridge.score(X_test,y_test)"
   ]
  },
  {
   "cell_type": "code",
   "execution_count": 37,
   "id": "29ec57b7",
   "metadata": {
    "execution": {
     "iopub.execute_input": "2023-12-23T16:33:39.565636Z",
     "iopub.status.busy": "2023-12-23T16:33:39.564954Z",
     "iopub.status.idle": "2023-12-23T16:33:39.571585Z",
     "shell.execute_reply": "2023-12-23T16:33:39.570474Z"
    },
    "papermill": {
     "duration": 0.062721,
     "end_time": "2023-12-23T16:33:39.573880",
     "exception": false,
     "start_time": "2023-12-23T16:33:39.511159",
     "status": "completed"
    },
    "tags": []
   },
   "outputs": [],
   "source": [
    "lasso = Lasso(alpha=1)"
   ]
  },
  {
   "cell_type": "code",
   "execution_count": 38,
   "id": "c42023e1",
   "metadata": {
    "execution": {
     "iopub.execute_input": "2023-12-23T16:33:39.623678Z",
     "iopub.status.busy": "2023-12-23T16:33:39.623250Z",
     "iopub.status.idle": "2023-12-23T16:33:39.643792Z",
     "shell.execute_reply": "2023-12-23T16:33:39.642618Z"
    },
    "papermill": {
     "duration": 0.050193,
     "end_time": "2023-12-23T16:33:39.647977",
     "exception": false,
     "start_time": "2023-12-23T16:33:39.597784",
     "status": "completed"
    },
    "tags": []
   },
   "outputs": [
    {
     "data": {
      "text/html": [
       "<style>#sk-container-id-3 {color: black;background-color: white;}#sk-container-id-3 pre{padding: 0;}#sk-container-id-3 div.sk-toggleable {background-color: white;}#sk-container-id-3 label.sk-toggleable__label {cursor: pointer;display: block;width: 100%;margin-bottom: 0;padding: 0.3em;box-sizing: border-box;text-align: center;}#sk-container-id-3 label.sk-toggleable__label-arrow:before {content: \"▸\";float: left;margin-right: 0.25em;color: #696969;}#sk-container-id-3 label.sk-toggleable__label-arrow:hover:before {color: black;}#sk-container-id-3 div.sk-estimator:hover label.sk-toggleable__label-arrow:before {color: black;}#sk-container-id-3 div.sk-toggleable__content {max-height: 0;max-width: 0;overflow: hidden;text-align: left;background-color: #f0f8ff;}#sk-container-id-3 div.sk-toggleable__content pre {margin: 0.2em;color: black;border-radius: 0.25em;background-color: #f0f8ff;}#sk-container-id-3 input.sk-toggleable__control:checked~div.sk-toggleable__content {max-height: 200px;max-width: 100%;overflow: auto;}#sk-container-id-3 input.sk-toggleable__control:checked~label.sk-toggleable__label-arrow:before {content: \"▾\";}#sk-container-id-3 div.sk-estimator input.sk-toggleable__control:checked~label.sk-toggleable__label {background-color: #d4ebff;}#sk-container-id-3 div.sk-label input.sk-toggleable__control:checked~label.sk-toggleable__label {background-color: #d4ebff;}#sk-container-id-3 input.sk-hidden--visually {border: 0;clip: rect(1px 1px 1px 1px);clip: rect(1px, 1px, 1px, 1px);height: 1px;margin: -1px;overflow: hidden;padding: 0;position: absolute;width: 1px;}#sk-container-id-3 div.sk-estimator {font-family: monospace;background-color: #f0f8ff;border: 1px dotted black;border-radius: 0.25em;box-sizing: border-box;margin-bottom: 0.5em;}#sk-container-id-3 div.sk-estimator:hover {background-color: #d4ebff;}#sk-container-id-3 div.sk-parallel-item::after {content: \"\";width: 100%;border-bottom: 1px solid gray;flex-grow: 1;}#sk-container-id-3 div.sk-label:hover label.sk-toggleable__label {background-color: #d4ebff;}#sk-container-id-3 div.sk-serial::before {content: \"\";position: absolute;border-left: 1px solid gray;box-sizing: border-box;top: 0;bottom: 0;left: 50%;z-index: 0;}#sk-container-id-3 div.sk-serial {display: flex;flex-direction: column;align-items: center;background-color: white;padding-right: 0.2em;padding-left: 0.2em;position: relative;}#sk-container-id-3 div.sk-item {position: relative;z-index: 1;}#sk-container-id-3 div.sk-parallel {display: flex;align-items: stretch;justify-content: center;background-color: white;position: relative;}#sk-container-id-3 div.sk-item::before, #sk-container-id-3 div.sk-parallel-item::before {content: \"\";position: absolute;border-left: 1px solid gray;box-sizing: border-box;top: 0;bottom: 0;left: 50%;z-index: -1;}#sk-container-id-3 div.sk-parallel-item {display: flex;flex-direction: column;z-index: 1;position: relative;background-color: white;}#sk-container-id-3 div.sk-parallel-item:first-child::after {align-self: flex-end;width: 50%;}#sk-container-id-3 div.sk-parallel-item:last-child::after {align-self: flex-start;width: 50%;}#sk-container-id-3 div.sk-parallel-item:only-child::after {width: 0;}#sk-container-id-3 div.sk-dashed-wrapped {border: 1px dashed gray;margin: 0 0.4em 0.5em 0.4em;box-sizing: border-box;padding-bottom: 0.4em;background-color: white;}#sk-container-id-3 div.sk-label label {font-family: monospace;font-weight: bold;display: inline-block;line-height: 1.2em;}#sk-container-id-3 div.sk-label-container {text-align: center;}#sk-container-id-3 div.sk-container {/* jupyter's `normalize.less` sets `[hidden] { display: none; }` but bootstrap.min.css set `[hidden] { display: none !important; }` so we also need the `!important` here to be able to override the default hidden behavior on the sphinx rendered scikit-learn.org. See: https://github.com/scikit-learn/scikit-learn/issues/21755 */display: inline-block !important;position: relative;}#sk-container-id-3 div.sk-text-repr-fallback {display: none;}</style><div id=\"sk-container-id-3\" class=\"sk-top-container\"><div class=\"sk-text-repr-fallback\"><pre>Lasso(alpha=1)</pre><b>In a Jupyter environment, please rerun this cell to show the HTML representation or trust the notebook. <br />On GitHub, the HTML representation is unable to render, please try loading this page with nbviewer.org.</b></div><div class=\"sk-container\" hidden><div class=\"sk-item\"><div class=\"sk-estimator sk-toggleable\"><input class=\"sk-toggleable__control sk-hidden--visually\" id=\"sk-estimator-id-3\" type=\"checkbox\" checked><label for=\"sk-estimator-id-3\" class=\"sk-toggleable__label sk-toggleable__label-arrow\">Lasso</label><div class=\"sk-toggleable__content\"><pre>Lasso(alpha=1)</pre></div></div></div></div></div>"
      ],
      "text/plain": [
       "Lasso(alpha=1)"
      ]
     },
     "execution_count": 38,
     "metadata": {},
     "output_type": "execute_result"
    }
   ],
   "source": [
    "lasso.fit(X_train,y_train)"
   ]
  },
  {
   "cell_type": "code",
   "execution_count": 39,
   "id": "c66bf4e6",
   "metadata": {
    "execution": {
     "iopub.execute_input": "2023-12-23T16:33:39.756007Z",
     "iopub.status.busy": "2023-12-23T16:33:39.755281Z",
     "iopub.status.idle": "2023-12-23T16:33:39.772732Z",
     "shell.execute_reply": "2023-12-23T16:33:39.771621Z"
    },
    "papermill": {
     "duration": 0.076229,
     "end_time": "2023-12-23T16:33:39.776662",
     "exception": false,
     "start_time": "2023-12-23T16:33:39.700433",
     "status": "completed"
    },
    "tags": []
   },
   "outputs": [
    {
     "data": {
      "text/plain": [
       "0.4490248537678645"
      ]
     },
     "execution_count": 39,
     "metadata": {},
     "output_type": "execute_result"
    }
   ],
   "source": [
    "lasso.score(X_train,y_train)"
   ]
  },
  {
   "cell_type": "code",
   "execution_count": 40,
   "id": "4bd386c9",
   "metadata": {
    "execution": {
     "iopub.execute_input": "2023-12-23T16:33:39.882027Z",
     "iopub.status.busy": "2023-12-23T16:33:39.881257Z",
     "iopub.status.idle": "2023-12-23T16:33:39.899557Z",
     "shell.execute_reply": "2023-12-23T16:33:39.898459Z"
    },
    "papermill": {
     "duration": 0.075282,
     "end_time": "2023-12-23T16:33:39.903485",
     "exception": false,
     "start_time": "2023-12-23T16:33:39.828203",
     "status": "completed"
    },
    "tags": []
   },
   "outputs": [
    {
     "data": {
      "text/plain": [
       "0.3286205734587032"
      ]
     },
     "execution_count": 40,
     "metadata": {},
     "output_type": "execute_result"
    }
   ],
   "source": [
    "lasso.score(X_test,y_test)"
   ]
  },
  {
   "cell_type": "markdown",
   "id": "e619333d",
   "metadata": {
    "papermill": {
     "duration": 0.051252,
     "end_time": "2023-12-23T16:33:40.007771",
     "exception": false,
     "start_time": "2023-12-23T16:33:39.956519",
     "status": "completed"
    },
    "tags": []
   },
   "source": [
    "**Ridge Regularization is much effective than Lasso, but still model is not performing Good.**"
   ]
  },
  {
   "cell_type": "markdown",
   "id": "df215c5c",
   "metadata": {
    "papermill": {
     "duration": 0.024194,
     "end_time": "2023-12-23T16:33:40.059771",
     "exception": false,
     "start_time": "2023-12-23T16:33:40.035577",
     "status": "completed"
    },
    "tags": []
   },
   "source": [
    "## Making My Data representative for better Model Performance"
   ]
  },
  {
   "cell_type": "code",
   "execution_count": 41,
   "id": "e93d2e5e",
   "metadata": {
    "execution": {
     "iopub.execute_input": "2023-12-23T16:33:40.110530Z",
     "iopub.status.busy": "2023-12-23T16:33:40.110139Z",
     "iopub.status.idle": "2023-12-23T16:33:40.121916Z",
     "shell.execute_reply": "2023-12-23T16:33:40.120773Z"
    },
    "papermill": {
     "duration": 0.04013,
     "end_time": "2023-12-23T16:33:40.124611",
     "exception": false,
     "start_time": "2023-12-23T16:33:40.084481",
     "status": "completed"
    },
    "tags": []
   },
   "outputs": [
    {
     "data": {
      "text/plain": [
       "location\n",
       "Faizabad Road               52\n",
       "Jankipuram                  49\n",
       "Kursi Road                  32\n",
       "Sitapur Road                24\n",
       "Amity University Road       23\n",
       "Gomti Nagar                 21\n",
       "Chinhat                     20\n",
       "Uattardhona                 15\n",
       "Malhaur                     13\n",
       "Indira Nagar                11\n",
       "Iim Road                    10\n",
       "Safedabad                   10\n",
       "Kanpur Road                  9\n",
       "Neel Matha                   7\n",
       "Anora Kala                   6\n",
       "Bijnor Road                  6\n",
       "Bakshi Ka Talab Talab        6\n",
       "Alambagh                     6\n",
       "Bakshi Ka Talab              5\n",
       "Omaxe City                   5\n",
       "Raibareilly Road             5\n",
       "Kanpur Lucknow               4\n",
       "Gosainganj                   4\n",
       "Cantonment                   4\n",
       "Sultanpur Road               4\n",
       "Deva Road                    4\n",
       "Vrindavan Yojna              4\n",
       "Munshi Pulia                 3\n",
       "Rama Degree College Road     3\n",
       "Chinhut                      3\n",
       "Name: count, dtype: int64"
      ]
     },
     "execution_count": 41,
     "metadata": {},
     "output_type": "execute_result"
    }
   ],
   "source": [
    "values = df['location'].value_counts()\n",
    "values[:30]"
   ]
  },
  {
   "cell_type": "code",
   "execution_count": 42,
   "id": "6f26ed63",
   "metadata": {
    "execution": {
     "iopub.execute_input": "2023-12-23T16:33:40.184796Z",
     "iopub.status.busy": "2023-12-23T16:33:40.184277Z",
     "iopub.status.idle": "2023-12-23T16:33:42.139258Z",
     "shell.execute_reply": "2023-12-23T16:33:42.138096Z"
    },
    "papermill": {
     "duration": 1.990527,
     "end_time": "2023-12-23T16:33:42.142658",
     "exception": false,
     "start_time": "2023-12-23T16:33:40.152131",
     "status": "completed"
    },
    "tags": []
   },
   "outputs": [
    {
     "data": {
      "image/png": "[encoded data removed]",
      "text/plain": [
       "<Figure size 1500x500 with 1 Axes>"
      ]
     },
     "metadata": {},
     "output_type": "display_data"
    }
   ],
   "source": [
    "sns.set(rc = {'figure.figsize':(15,5)})\n",
    "sns.countplot(data=df,x='location')\n",
    "plt.xticks(rotation=90)\n",
    "plt.show()"
   ]
  },
  {
   "cell_type": "markdown",
   "id": "4475b1e5",
   "metadata": {
    "papermill": {
     "duration": 0.02738,
     "end_time": "2023-12-23T16:33:42.197666",
     "exception": false,
     "start_time": "2023-12-23T16:33:42.170286",
     "status": "completed"
    },
    "tags": []
   },
   "source": [
    "**We can verify it again that our dataset is too small in terms of representing almost all locations.So, we will include only those locations which have count 25.**"
   ]
  },
  {
   "cell_type": "code",
   "execution_count": 43,
   "id": "6379993d",
   "metadata": {
    "execution": {
     "iopub.execute_input": "2023-12-23T16:33:42.254296Z",
     "iopub.status.busy": "2023-12-23T16:33:42.253902Z",
     "iopub.status.idle": "2023-12-23T16:33:42.259579Z",
     "shell.execute_reply": "2023-12-23T16:33:42.258345Z"
    },
    "papermill": {
     "duration": 0.037124,
     "end_time": "2023-12-23T16:33:42.262054",
     "exception": false,
     "start_time": "2023-12-23T16:33:42.224930",
     "status": "completed"
    },
    "tags": []
   },
   "outputs": [],
   "source": [
    "values_at_least_25 = values[values>=25]"
   ]
  },
  {
   "cell_type": "code",
   "execution_count": 44,
   "id": "edfc7dc0",
   "metadata": {
    "execution": {
     "iopub.execute_input": "2023-12-23T16:33:42.318700Z",
     "iopub.status.busy": "2023-12-23T16:33:42.318029Z",
     "iopub.status.idle": "2023-12-23T16:33:42.325074Z",
     "shell.execute_reply": "2023-12-23T16:33:42.324004Z"
    },
    "papermill": {
     "duration": 0.038268,
     "end_time": "2023-12-23T16:33:42.327573",
     "exception": false,
     "start_time": "2023-12-23T16:33:42.289305",
     "status": "completed"
    },
    "tags": []
   },
   "outputs": [
    {
     "data": {
      "text/plain": [
       "Index(['Faizabad Road', 'Jankipuram', 'Kursi Road'], dtype='object', name='location')"
      ]
     },
     "execution_count": 44,
     "metadata": {},
     "output_type": "execute_result"
    }
   ],
   "source": [
    "values_at_least_25.index"
   ]
  },
  {
   "cell_type": "code",
   "execution_count": 45,
   "id": "ca1ff551",
   "metadata": {
    "execution": {
     "iopub.execute_input": "2023-12-23T16:33:42.384467Z",
     "iopub.status.busy": "2023-12-23T16:33:42.383728Z",
     "iopub.status.idle": "2023-12-23T16:33:42.389689Z",
     "shell.execute_reply": "2023-12-23T16:33:42.388573Z"
    },
    "papermill": {
     "duration": 0.037306,
     "end_time": "2023-12-23T16:33:42.392145",
     "exception": false,
     "start_time": "2023-12-23T16:33:42.354839",
     "status": "completed"
    },
    "tags": []
   },
   "outputs": [],
   "source": [
    "df_new = df[df['location'].isin(values_at_least_25.index)]"
   ]
  },
  {
   "cell_type": "code",
   "execution_count": 46,
   "id": "3e727aa2",
   "metadata": {
    "execution": {
     "iopub.execute_input": "2023-12-23T16:33:42.450101Z",
     "iopub.status.busy": "2023-12-23T16:33:42.448895Z",
     "iopub.status.idle": "2023-12-23T16:33:42.458799Z",
     "shell.execute_reply": "2023-12-23T16:33:42.457789Z"
    },
    "papermill": {
     "duration": 0.041417,
     "end_time": "2023-12-23T16:33:42.460980",
     "exception": false,
     "start_time": "2023-12-23T16:33:42.419563",
     "status": "completed"
    },
    "tags": []
   },
   "outputs": [
    {
     "data": {
      "text/plain": [
       "location\n",
       "Faizabad Road    52\n",
       "Jankipuram       49\n",
       "Kursi Road       32\n",
       "Name: count, dtype: int64"
      ]
     },
     "execution_count": 46,
     "metadata": {},
     "output_type": "execute_result"
    }
   ],
   "source": [
    "df_new['location'].value_counts()"
   ]
  },
  {
   "cell_type": "code",
   "execution_count": 47,
   "id": "8a7f931a",
   "metadata": {
    "execution": {
     "iopub.execute_input": "2023-12-23T16:33:42.517998Z",
     "iopub.status.busy": "2023-12-23T16:33:42.517574Z",
     "iopub.status.idle": "2023-12-23T16:33:42.524637Z",
     "shell.execute_reply": "2023-12-23T16:33:42.523463Z"
    },
    "papermill": {
     "duration": 0.038609,
     "end_time": "2023-12-23T16:33:42.527077",
     "exception": false,
     "start_time": "2023-12-23T16:33:42.488468",
     "status": "completed"
    },
    "tags": []
   },
   "outputs": [
    {
     "data": {
      "text/plain": [
       "133"
      ]
     },
     "execution_count": 47,
     "metadata": {},
     "output_type": "execute_result"
    }
   ],
   "source": [
    "len(df_new)"
   ]
  },
  {
   "cell_type": "code",
   "execution_count": 48,
   "id": "348e4a92",
   "metadata": {
    "execution": {
     "iopub.execute_input": "2023-12-23T16:33:42.584591Z",
     "iopub.status.busy": "2023-12-23T16:33:42.584161Z",
     "iopub.status.idle": "2023-12-23T16:33:42.594993Z",
     "shell.execute_reply": "2023-12-23T16:33:42.593779Z"
    },
    "papermill": {
     "duration": 0.042558,
     "end_time": "2023-12-23T16:33:42.597506",
     "exception": false,
     "start_time": "2023-12-23T16:33:42.554948",
     "status": "completed"
    },
    "tags": []
   },
   "outputs": [],
   "source": [
    "df_num_new = pd.get_dummies(df_new,drop_first = True,dtype=int)"
   ]
  },
  {
   "cell_type": "code",
   "execution_count": 49,
   "id": "e4bbaef7",
   "metadata": {
    "execution": {
     "iopub.execute_input": "2023-12-23T16:33:42.654571Z",
     "iopub.status.busy": "2023-12-23T16:33:42.654160Z",
     "iopub.status.idle": "2023-12-23T16:33:42.669055Z",
     "shell.execute_reply": "2023-12-23T16:33:42.667980Z"
    },
    "papermill": {
     "duration": 0.046308,
     "end_time": "2023-12-23T16:33:42.671605",
     "exception": false,
     "start_time": "2023-12-23T16:33:42.625297",
     "status": "completed"
    },
    "tags": []
   },
   "outputs": [
    {
     "data": {
      "text/html": [
       "<div>\n",
       "<style scoped>\n",
       "    .dataframe tbody tr th:only-of-type {\n",
       "        vertical-align: middle;\n",
       "    }\n",
       "\n",
       "    .dataframe tbody tr th {\n",
       "        vertical-align: top;\n",
       "    }\n",
       "\n",
       "    .dataframe thead th {\n",
       "        text-align: right;\n",
       "    }\n",
       "</style>\n",
       "<table border=\"1\" class=\"dataframe\">\n",
       "  <thead>\n",
       "    <tr style=\"text-align: right;\">\n",
       "      <th></th>\n",
       "      <th>bhk</th>\n",
       "      <th>area_sq_ft</th>\n",
       "      <th>price_lakh</th>\n",
       "      <th>carpet_area</th>\n",
       "      <th>bathrooms</th>\n",
       "      <th>type_Villa</th>\n",
       "      <th>location_Jankipuram</th>\n",
       "      <th>location_Kursi Road</th>\n",
       "      <th>status_StatusUnder</th>\n",
       "    </tr>\n",
       "  </thead>\n",
       "  <tbody>\n",
       "    <tr>\n",
       "      <th>2</th>\n",
       "      <td>2</td>\n",
       "      <td>1250</td>\n",
       "      <td>50.0</td>\n",
       "      <td>1000.0</td>\n",
       "      <td>2</td>\n",
       "      <td>0</td>\n",
       "      <td>1</td>\n",
       "      <td>0</td>\n",
       "      <td>0</td>\n",
       "    </tr>\n",
       "    <tr>\n",
       "      <th>10</th>\n",
       "      <td>2</td>\n",
       "      <td>850</td>\n",
       "      <td>27.0</td>\n",
       "      <td>600.0</td>\n",
       "      <td>1</td>\n",
       "      <td>0</td>\n",
       "      <td>1</td>\n",
       "      <td>0</td>\n",
       "      <td>1</td>\n",
       "    </tr>\n",
       "    <tr>\n",
       "      <th>16</th>\n",
       "      <td>2</td>\n",
       "      <td>1500</td>\n",
       "      <td>42.0</td>\n",
       "      <td>1250.0</td>\n",
       "      <td>2</td>\n",
       "      <td>0</td>\n",
       "      <td>1</td>\n",
       "      <td>0</td>\n",
       "      <td>0</td>\n",
       "    </tr>\n",
       "    <tr>\n",
       "      <th>26</th>\n",
       "      <td>2</td>\n",
       "      <td>1100</td>\n",
       "      <td>44.0</td>\n",
       "      <td>700.0</td>\n",
       "      <td>2</td>\n",
       "      <td>0</td>\n",
       "      <td>1</td>\n",
       "      <td>0</td>\n",
       "      <td>0</td>\n",
       "    </tr>\n",
       "    <tr>\n",
       "      <th>29</th>\n",
       "      <td>2</td>\n",
       "      <td>1100</td>\n",
       "      <td>46.0</td>\n",
       "      <td>1000.0</td>\n",
       "      <td>2</td>\n",
       "      <td>0</td>\n",
       "      <td>1</td>\n",
       "      <td>0</td>\n",
       "      <td>0</td>\n",
       "    </tr>\n",
       "  </tbody>\n",
       "</table>\n",
       "</div>"
      ],
      "text/plain": [
       "    bhk  area_sq_ft  price_lakh  carpet_area  bathrooms  type_Villa  \\\n",
       "2     2        1250        50.0       1000.0          2           0   \n",
       "10    2         850        27.0        600.0          1           0   \n",
       "16    2        1500        42.0       1250.0          2           0   \n",
       "26    2        1100        44.0        700.0          2           0   \n",
       "29    2        1100        46.0       1000.0          2           0   \n",
       "\n",
       "    location_Jankipuram  location_Kursi Road  status_StatusUnder  \n",
       "2                     1                    0                   0  \n",
       "10                    1                    0                   1  \n",
       "16                    1                    0                   0  \n",
       "26                    1                    0                   0  \n",
       "29                    1                    0                   0  "
      ]
     },
     "execution_count": 49,
     "metadata": {},
     "output_type": "execute_result"
    }
   ],
   "source": [
    "df_num_new.head()"
   ]
  },
  {
   "cell_type": "code",
   "execution_count": 50,
   "id": "fdd6ea16",
   "metadata": {
    "execution": {
     "iopub.execute_input": "2023-12-23T16:33:42.730658Z",
     "iopub.status.busy": "2023-12-23T16:33:42.729700Z",
     "iopub.status.idle": "2023-12-23T16:33:42.736598Z",
     "shell.execute_reply": "2023-12-23T16:33:42.735466Z"
    },
    "papermill": {
     "duration": 0.039024,
     "end_time": "2023-12-23T16:33:42.739015",
     "exception": false,
     "start_time": "2023-12-23T16:33:42.699991",
     "status": "completed"
    },
    "tags": []
   },
   "outputs": [],
   "source": [
    "x1 = df_num_new.drop(columns='price_lakh')"
   ]
  },
  {
   "cell_type": "code",
   "execution_count": 51,
   "id": "7bee7edd",
   "metadata": {
    "execution": {
     "iopub.execute_input": "2023-12-23T16:33:42.797436Z",
     "iopub.status.busy": "2023-12-23T16:33:42.797014Z",
     "iopub.status.idle": "2023-12-23T16:33:42.802364Z",
     "shell.execute_reply": "2023-12-23T16:33:42.801374Z"
    },
    "papermill": {
     "duration": 0.037207,
     "end_time": "2023-12-23T16:33:42.804627",
     "exception": false,
     "start_time": "2023-12-23T16:33:42.767420",
     "status": "completed"
    },
    "tags": []
   },
   "outputs": [],
   "source": [
    "y1 = df_num_new['price_lakh']"
   ]
  },
  {
   "cell_type": "code",
   "execution_count": 52,
   "id": "f1ae0c46",
   "metadata": {
    "execution": {
     "iopub.execute_input": "2023-12-23T16:33:42.862854Z",
     "iopub.status.busy": "2023-12-23T16:33:42.862466Z",
     "iopub.status.idle": "2023-12-23T16:33:42.904070Z",
     "shell.execute_reply": "2023-12-23T16:33:42.902668Z"
    },
    "papermill": {
     "duration": 0.073609,
     "end_time": "2023-12-23T16:33:42.906554",
     "exception": false,
     "start_time": "2023-12-23T16:33:42.832945",
     "status": "completed"
    },
    "tags": []
   },
   "outputs": [
    {
     "name": "stdout",
     "output_type": "stream",
     "text": [
      "model scores [0.36566241 0.30429575 0.66619614 0.58802029 0.14556249]\n",
      "mean score 0.4139474164413806\n"
     ]
    }
   ],
   "source": [
    "scores_new = cross_val_score(LinearRegression(),x1,y1,cv=5)\n",
    "print('model scores',scores_new)\n",
    "print('mean score',scores_new.mean())"
   ]
  },
  {
   "cell_type": "code",
   "execution_count": 53,
   "id": "553453dc",
   "metadata": {
    "execution": {
     "iopub.execute_input": "2023-12-23T16:33:42.964708Z",
     "iopub.status.busy": "2023-12-23T16:33:42.964283Z",
     "iopub.status.idle": "2023-12-23T16:33:43.005148Z",
     "shell.execute_reply": "2023-12-23T16:33:43.003970Z"
    },
    "papermill": {
     "duration": 0.073154,
     "end_time": "2023-12-23T16:33:43.007756",
     "exception": false,
     "start_time": "2023-12-23T16:33:42.934602",
     "status": "completed"
    },
    "tags": []
   },
   "outputs": [
    {
     "data": {
      "text/plain": [
       "0.43596038306662355"
      ]
     },
     "execution_count": 53,
     "metadata": {},
     "output_type": "execute_result"
    }
   ],
   "source": [
    "cross_val_score(Ridge(),x1,y1,cv=5).mean()"
   ]
  },
  {
   "cell_type": "code",
   "execution_count": 54,
   "id": "9f4cf86b",
   "metadata": {
    "execution": {
     "iopub.execute_input": "2023-12-23T16:33:43.066741Z",
     "iopub.status.busy": "2023-12-23T16:33:43.066311Z",
     "iopub.status.idle": "2023-12-23T16:33:43.072904Z",
     "shell.execute_reply": "2023-12-23T16:33:43.071656Z"
    },
    "papermill": {
     "duration": 0.038847,
     "end_time": "2023-12-23T16:33:43.075215",
     "exception": false,
     "start_time": "2023-12-23T16:33:43.036368",
     "status": "completed"
    },
    "tags": []
   },
   "outputs": [],
   "source": [
    "to_be_scaled2 = df_num_new[['area_sq_ft','carpet_area']]"
   ]
  },
  {
   "cell_type": "code",
   "execution_count": 55,
   "id": "2dbd4bb8",
   "metadata": {
    "execution": {
     "iopub.execute_input": "2023-12-23T16:33:43.133314Z",
     "iopub.status.busy": "2023-12-23T16:33:43.132895Z",
     "iopub.status.idle": "2023-12-23T16:33:43.142837Z",
     "shell.execute_reply": "2023-12-23T16:33:43.141734Z"
    },
    "papermill": {
     "duration": 0.041847,
     "end_time": "2023-12-23T16:33:43.145237",
     "exception": false,
     "start_time": "2023-12-23T16:33:43.103390",
     "status": "completed"
    },
    "tags": []
   },
   "outputs": [],
   "source": [
    "scaled_new = scale.fit_transform(to_be_scaled2)"
   ]
  },
  {
   "cell_type": "code",
   "execution_count": 56,
   "id": "901fa68d",
   "metadata": {
    "execution": {
     "iopub.execute_input": "2023-12-23T16:33:43.204539Z",
     "iopub.status.busy": "2023-12-23T16:33:43.204076Z",
     "iopub.status.idle": "2023-12-23T16:33:43.209806Z",
     "shell.execute_reply": "2023-12-23T16:33:43.208727Z"
    },
    "papermill": {
     "duration": 0.03811,
     "end_time": "2023-12-23T16:33:43.212024",
     "exception": false,
     "start_time": "2023-12-23T16:33:43.173914",
     "status": "completed"
    },
    "tags": []
   },
   "outputs": [],
   "source": [
    "x1[['area_sq_ft','carpet_area']]= scaled_new"
   ]
  },
  {
   "cell_type": "code",
   "execution_count": 57,
   "id": "1229e22e",
   "metadata": {
    "execution": {
     "iopub.execute_input": "2023-12-23T16:33:43.270204Z",
     "iopub.status.busy": "2023-12-23T16:33:43.269777Z",
     "iopub.status.idle": "2023-12-23T16:33:43.274738Z",
     "shell.execute_reply": "2023-12-23T16:33:43.273560Z"
    },
    "papermill": {
     "duration": 0.036803,
     "end_time": "2023-12-23T16:33:43.277005",
     "exception": false,
     "start_time": "2023-12-23T16:33:43.240202",
     "status": "completed"
    },
    "tags": []
   },
   "outputs": [],
   "source": [
    "pca = PCA(0.95)"
   ]
  },
  {
   "cell_type": "code",
   "execution_count": 58,
   "id": "e245a52f",
   "metadata": {
    "execution": {
     "iopub.execute_input": "2023-12-23T16:33:43.336198Z",
     "iopub.status.busy": "2023-12-23T16:33:43.335428Z",
     "iopub.status.idle": "2023-12-23T16:33:43.344136Z",
     "shell.execute_reply": "2023-12-23T16:33:43.342996Z"
    },
    "papermill": {
     "duration": 0.040782,
     "end_time": "2023-12-23T16:33:43.346580",
     "exception": false,
     "start_time": "2023-12-23T16:33:43.305798",
     "status": "completed"
    },
    "tags": []
   },
   "outputs": [],
   "source": [
    "x1_pca_new = pca.fit_transform(x1)"
   ]
  },
  {
   "cell_type": "code",
   "execution_count": 59,
   "id": "8d13206c",
   "metadata": {
    "execution": {
     "iopub.execute_input": "2023-12-23T16:33:43.405431Z",
     "iopub.status.busy": "2023-12-23T16:33:43.405014Z",
     "iopub.status.idle": "2023-12-23T16:33:43.411227Z",
     "shell.execute_reply": "2023-12-23T16:33:43.410437Z"
    },
    "papermill": {
     "duration": 0.03862,
     "end_time": "2023-12-23T16:33:43.413602",
     "exception": false,
     "start_time": "2023-12-23T16:33:43.374982",
     "status": "completed"
    },
    "tags": []
   },
   "outputs": [
    {
     "data": {
      "text/plain": [
       "(133, 6)"
      ]
     },
     "execution_count": 59,
     "metadata": {},
     "output_type": "execute_result"
    }
   ],
   "source": [
    "x1_pca_new.shape"
   ]
  },
  {
   "cell_type": "code",
   "execution_count": 60,
   "id": "703d770f",
   "metadata": {
    "execution": {
     "iopub.execute_input": "2023-12-23T16:33:43.472450Z",
     "iopub.status.busy": "2023-12-23T16:33:43.471524Z",
     "iopub.status.idle": "2023-12-23T16:33:43.491897Z",
     "shell.execute_reply": "2023-12-23T16:33:43.491109Z"
    },
    "papermill": {
     "duration": 0.05209,
     "end_time": "2023-12-23T16:33:43.494077",
     "exception": false,
     "start_time": "2023-12-23T16:33:43.441987",
     "status": "completed"
    },
    "tags": []
   },
   "outputs": [
    {
     "data": {
      "text/plain": [
       "0.4666329633450624"
      ]
     },
     "execution_count": 60,
     "metadata": {},
     "output_type": "execute_result"
    }
   ],
   "source": [
    "cross_val_score(LinearRegression(),x1_pca_new,y1,cv=5).mean()"
   ]
  },
  {
   "cell_type": "markdown",
   "id": "bf93077f",
   "metadata": {
    "papermill": {
     "duration": 0.028853,
     "end_time": "2023-12-23T16:33:43.551619",
     "exception": false,
     "start_time": "2023-12-23T16:33:43.522766",
     "status": "completed"
    },
    "tags": []
   },
   "source": [
    "**I tried lot on all possible solution that I am aware of, but did not get better model score.**"
   ]
  }
 ],
 "metadata": {
  "kaggle": {
   "accelerator": "none",
   "dataSources": [
    {
     "datasetId": 4211705,
     "sourceId": 7266225,
     "sourceType": "datasetVersion"
    }
   ],
   "dockerImageVersionId": 30626,
   "isGpuEnabled": false,
   "isInternetEnabled": true,
   "language": "python",
   "sourceType": "notebook"
  },
  "kernelspec": {
   "display_name": "Python 3",
   "language": "python",
   "name": "python3"
  },
  "language_info": {
   "codemirror_mode": {
    "name": "ipython",
    "version": 3
   },
   "file_extension": ".py",
   "mimetype": "text/x-python",
   "name": "python",
   "nbconvert_exporter": "python",
   "pygments_lexer": "ipython3",
   "version": "3.10.12"
  },
  "papermill": {
   "default_parameters": {},
   "duration": 13.743136,
   "end_time": "2023-12-23T16:33:44.200749",
   "environment_variables": {},
   "exception": null,
   "input_path": "__notebook__.ipynb",
   "output_path": "__notebook__.ipynb",
   "parameters": {},
   "start_time": "2023-12-23T16:33:30.457613",
   "version": "2.4.0"
  }
 },
 "nbformat": 4,
 "nbformat_minor": 5
}
