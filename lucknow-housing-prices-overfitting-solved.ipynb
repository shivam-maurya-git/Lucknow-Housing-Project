{
 "cells": [
  {
   "cell_type": "code",
   "execution_count": 1,
   "id": "e104e742",
   "metadata": {
    "_cell_guid": "b1076dfc-b9ad-4769-8c92-a6c4dae69d19",
    "_uuid": "8f2839f25d086af736a60e9eeb907d3b93b6e0e5",
    "execution": {
     "iopub.execute_input": "2023-12-25T10:17:44.178691Z",
     "iopub.status.busy": "2023-12-25T10:17:44.178277Z",
     "iopub.status.idle": "2023-12-25T10:17:44.652413Z",
     "shell.execute_reply": "2023-12-25T10:17:44.650674Z"
    },
    "papermill": {
     "duration": 0.490288,
     "end_time": "2023-12-25T10:17:44.654957",
     "exception": false,
     "start_time": "2023-12-25T10:17:44.164669",
     "status": "completed"
    },
    "tags": []
   },
   "outputs": [
    {
     "name": "stdout",
     "output_type": "stream",
     "text": [
      "/kaggle/input/lucknow-city-india-450-housing-prices-updated/lucknow_hosuing_prices - Main File.csv\n"
     ]
    }
   ],
   "source": [
    "# This Python 3 environment comes with many helpful analytics libraries installed\n",
    "# It is defined by the kaggle/python Docker image: https://github.com/kaggle/docker-python\n",
    "# For example, here's several helpful packages to load\n",
    "\n",
    "import numpy as np # linear algebra\n",
    "import pandas as pd # data processing, CSV file I/O (e.g. pd.read_csv)\n",
    "\n",
    "# Input data files are available in the read-only \"../input/\" directory\n",
    "# For example, running this (by clicking run or pressing Shift+Enter) will list all files under the input directory\n",
    "\n",
    "import os\n",
    "for dirname, _, filenames in os.walk('/kaggle/input'):\n",
    "    for filename in filenames:\n",
    "        print(os.path.join(dirname, filename))\n",
    "\n",
    "# You can write up to 20GB to the current directory (/kaggle/working/) that gets preserved as output when you create a version using \"Save & Run All\" \n",
    "# You can also write temporary files to /kaggle/temp/, but they won't be saved outside of the current session"
   ]
  },
  {
   "cell_type": "markdown",
   "id": "36cb53da",
   "metadata": {
    "papermill": {
     "duration": 0.01096,
     "end_time": "2023-12-25T10:17:44.677506",
     "exception": false,
     "start_time": "2023-12-25T10:17:44.666546",
     "status": "completed"
    },
    "tags": []
   },
   "source": [
    "## Importing ML Libraries"
   ]
  },
  {
   "cell_type": "code",
   "execution_count": 2,
   "id": "a001d21a",
   "metadata": {
    "execution": {
     "iopub.execute_input": "2023-12-25T10:17:44.703080Z",
     "iopub.status.busy": "2023-12-25T10:17:44.702227Z",
     "iopub.status.idle": "2023-12-25T10:17:46.246339Z",
     "shell.execute_reply": "2023-12-25T10:17:46.245175Z"
    },
    "papermill": {
     "duration": 1.559722,
     "end_time": "2023-12-25T10:17:46.249258",
     "exception": false,
     "start_time": "2023-12-25T10:17:44.689536",
     "status": "completed"
    },
    "tags": []
   },
   "outputs": [],
   "source": [
    "import pandas as pd\n",
    "from sklearn.model_selection import train_test_split\n",
    "from sklearn.ensemble import BaggingRegressor\n",
    "from sklearn.linear_model import LinearRegression"
   ]
  },
  {
   "cell_type": "code",
   "execution_count": 3,
   "id": "caf6e8f1",
   "metadata": {
    "execution": {
     "iopub.execute_input": "2023-12-25T10:17:46.273809Z",
     "iopub.status.busy": "2023-12-25T10:17:46.273353Z",
     "iopub.status.idle": "2023-12-25T10:17:46.278609Z",
     "shell.execute_reply": "2023-12-25T10:17:46.277561Z"
    },
    "papermill": {
     "duration": 0.020428,
     "end_time": "2023-12-25T10:17:46.281146",
     "exception": false,
     "start_time": "2023-12-25T10:17:46.260718",
     "status": "completed"
    },
    "tags": []
   },
   "outputs": [],
   "source": [
    "from sklearn.preprocessing import StandardScaler\n",
    "from sklearn.model_selection import cross_val_score"
   ]
  },
  {
   "cell_type": "markdown",
   "id": "f44a4269",
   "metadata": {
    "papermill": {
     "duration": 0.010931,
     "end_time": "2023-12-25T10:17:46.303510",
     "exception": false,
     "start_time": "2023-12-25T10:17:46.292579",
     "status": "completed"
    },
    "tags": []
   },
   "source": [
    "## Loading dataset"
   ]
  },
  {
   "cell_type": "code",
   "execution_count": 4,
   "id": "53ce6fa2",
   "metadata": {
    "execution": {
     "iopub.execute_input": "2023-12-25T10:17:46.327895Z",
     "iopub.status.busy": "2023-12-25T10:17:46.327483Z",
     "iopub.status.idle": "2023-12-25T10:17:46.368877Z",
     "shell.execute_reply": "2023-12-25T10:17:46.368000Z"
    },
    "papermill": {
     "duration": 0.056349,
     "end_time": "2023-12-25T10:17:46.371360",
     "exception": false,
     "start_time": "2023-12-25T10:17:46.315011",
     "status": "completed"
    },
    "tags": []
   },
   "outputs": [],
   "source": [
    "df = pd.read_csv('/kaggle/input/lucknow-city-india-450-housing-prices-updated/lucknow_hosuing_prices - Main File.csv')"
   ]
  },
  {
   "cell_type": "code",
   "execution_count": 5,
   "id": "ea737ed5",
   "metadata": {
    "execution": {
     "iopub.execute_input": "2023-12-25T10:17:46.396070Z",
     "iopub.status.busy": "2023-12-25T10:17:46.395276Z",
     "iopub.status.idle": "2023-12-25T10:17:46.408800Z",
     "shell.execute_reply": "2023-12-25T10:17:46.408015Z"
    },
    "papermill": {
     "duration": 0.028356,
     "end_time": "2023-12-25T10:17:46.411019",
     "exception": false,
     "start_time": "2023-12-25T10:17:46.382663",
     "status": "completed"
    },
    "tags": []
   },
   "outputs": [
    {
     "data": {
      "text/plain": [
       "bhk              int64\n",
       "type            object\n",
       "area_sq_ft       int64\n",
       "location        object\n",
       "price_lakh     float64\n",
       "carpet_area     object\n",
       "status          object\n",
       "bathrooms        int64\n",
       "dtype: object"
      ]
     },
     "execution_count": 5,
     "metadata": {},
     "output_type": "execute_result"
    }
   ],
   "source": [
    "df.dtypes"
   ]
  },
  {
   "cell_type": "code",
   "execution_count": 6,
   "id": "a5300520",
   "metadata": {
    "execution": {
     "iopub.execute_input": "2023-12-25T10:17:46.436011Z",
     "iopub.status.busy": "2023-12-25T10:17:46.435231Z",
     "iopub.status.idle": "2023-12-25T10:17:46.444789Z",
     "shell.execute_reply": "2023-12-25T10:17:46.444000Z"
    },
    "papermill": {
     "duration": 0.024516,
     "end_time": "2023-12-25T10:17:46.446975",
     "exception": false,
     "start_time": "2023-12-25T10:17:46.422459",
     "status": "completed"
    },
    "tags": []
   },
   "outputs": [
    {
     "data": {
      "text/plain": [
       "bhk              0\n",
       "type             0\n",
       "area_sq_ft       0\n",
       "location         0\n",
       "price_lakh       0\n",
       "carpet_area    152\n",
       "status           0\n",
       "bathrooms        0\n",
       "dtype: int64"
      ]
     },
     "execution_count": 6,
     "metadata": {},
     "output_type": "execute_result"
    }
   ],
   "source": [
    "df.isna().sum()"
   ]
  },
  {
   "cell_type": "markdown",
   "id": "393d2548",
   "metadata": {
    "papermill": {
     "duration": 0.011309,
     "end_time": "2023-12-25T10:17:46.469876",
     "exception": false,
     "start_time": "2023-12-25T10:17:46.458567",
     "status": "completed"
    },
    "tags": []
   },
   "source": [
    "## Preprocessing Data"
   ]
  },
  {
   "cell_type": "code",
   "execution_count": 7,
   "id": "e9f648de",
   "metadata": {
    "execution": {
     "iopub.execute_input": "2023-12-25T10:17:46.494926Z",
     "iopub.status.busy": "2023-12-25T10:17:46.494475Z",
     "iopub.status.idle": "2023-12-25T10:17:46.501094Z",
     "shell.execute_reply": "2023-12-25T10:17:46.499847Z"
    },
    "papermill": {
     "duration": 0.021995,
     "end_time": "2023-12-25T10:17:46.503391",
     "exception": false,
     "start_time": "2023-12-25T10:17:46.481396",
     "status": "completed"
    },
    "tags": []
   },
   "outputs": [],
   "source": [
    "df = df.fillna(0)"
   ]
  },
  {
   "cell_type": "code",
   "execution_count": 8,
   "id": "0ba46144",
   "metadata": {
    "execution": {
     "iopub.execute_input": "2023-12-25T10:17:46.528389Z",
     "iopub.status.busy": "2023-12-25T10:17:46.527985Z",
     "iopub.status.idle": "2023-12-25T10:17:46.548787Z",
     "shell.execute_reply": "2023-12-25T10:17:46.547726Z"
    },
    "papermill": {
     "duration": 0.035859,
     "end_time": "2023-12-25T10:17:46.551005",
     "exception": false,
     "start_time": "2023-12-25T10:17:46.515146",
     "status": "completed"
    },
    "tags": []
   },
   "outputs": [
    {
     "data": {
      "text/html": [
       "<div>\n",
       "<style scoped>\n",
       "    .dataframe tbody tr th:only-of-type {\n",
       "        vertical-align: middle;\n",
       "    }\n",
       "\n",
       "    .dataframe tbody tr th {\n",
       "        vertical-align: top;\n",
       "    }\n",
       "\n",
       "    .dataframe thead th {\n",
       "        text-align: right;\n",
       "    }\n",
       "</style>\n",
       "<table border=\"1\" class=\"dataframe\">\n",
       "  <thead>\n",
       "    <tr style=\"text-align: right;\">\n",
       "      <th></th>\n",
       "      <th>bhk</th>\n",
       "      <th>type</th>\n",
       "      <th>area_sq_ft</th>\n",
       "      <th>location</th>\n",
       "      <th>price_lakh</th>\n",
       "      <th>carpet_area</th>\n",
       "      <th>status</th>\n",
       "      <th>bathrooms</th>\n",
       "    </tr>\n",
       "  </thead>\n",
       "  <tbody>\n",
       "    <tr>\n",
       "      <th>0</th>\n",
       "      <td>3</td>\n",
       "      <td>Independent</td>\n",
       "      <td>1100</td>\n",
       "      <td>Rajajipuram</td>\n",
       "      <td>33.0</td>\n",
       "      <td>720</td>\n",
       "      <td>StatusReady</td>\n",
       "      <td>2</td>\n",
       "    </tr>\n",
       "    <tr>\n",
       "      <th>1</th>\n",
       "      <td>3</td>\n",
       "      <td>Independent</td>\n",
       "      <td>1200</td>\n",
       "      <td>Sarojini Nagar</td>\n",
       "      <td>27.0</td>\n",
       "      <td>0</td>\n",
       "      <td>StatusUnder</td>\n",
       "      <td>2</td>\n",
       "    </tr>\n",
       "    <tr>\n",
       "      <th>2</th>\n",
       "      <td>2</td>\n",
       "      <td>Independent</td>\n",
       "      <td>1250</td>\n",
       "      <td>Jankipuram</td>\n",
       "      <td>50.0</td>\n",
       "      <td>1000</td>\n",
       "      <td>StatusReady</td>\n",
       "      <td>2</td>\n",
       "    </tr>\n",
       "    <tr>\n",
       "      <th>3</th>\n",
       "      <td>3</td>\n",
       "      <td>Independent</td>\n",
       "      <td>1320</td>\n",
       "      <td>Omaxe City</td>\n",
       "      <td>42.0</td>\n",
       "      <td>900</td>\n",
       "      <td>StatusReady</td>\n",
       "      <td>3</td>\n",
       "    </tr>\n",
       "    <tr>\n",
       "      <th>4</th>\n",
       "      <td>3</td>\n",
       "      <td>Independent</td>\n",
       "      <td>900</td>\n",
       "      <td>Vrindavan Yojna</td>\n",
       "      <td>48.0</td>\n",
       "      <td></td>\n",
       "      <td>StatusReady</td>\n",
       "      <td>2</td>\n",
       "    </tr>\n",
       "  </tbody>\n",
       "</table>\n",
       "</div>"
      ],
      "text/plain": [
       "   bhk         type  area_sq_ft         location  price_lakh carpet_area  \\\n",
       "0    3  Independent        1100      Rajajipuram        33.0         720   \n",
       "1    3  Independent        1200   Sarojini Nagar        27.0           0   \n",
       "2    2  Independent        1250       Jankipuram        50.0        1000   \n",
       "3    3  Independent        1320       Omaxe City        42.0         900   \n",
       "4    3  Independent         900  Vrindavan Yojna        48.0               \n",
       "\n",
       "        status  bathrooms  \n",
       "0  StatusReady          2  \n",
       "1  StatusUnder          2  \n",
       "2  StatusReady          2  \n",
       "3  StatusReady          3  \n",
       "4  StatusReady          2  "
      ]
     },
     "execution_count": 8,
     "metadata": {},
     "output_type": "execute_result"
    }
   ],
   "source": [
    "df.head()"
   ]
  },
  {
   "cell_type": "code",
   "execution_count": 9,
   "id": "3bc8d1e5",
   "metadata": {
    "execution": {
     "iopub.execute_input": "2023-12-25T10:17:46.576789Z",
     "iopub.status.busy": "2023-12-25T10:17:46.576015Z",
     "iopub.status.idle": "2023-12-25T10:17:46.598679Z",
     "shell.execute_reply": "2023-12-25T10:17:46.597548Z"
    },
    "papermill": {
     "duration": 0.037975,
     "end_time": "2023-12-25T10:17:46.601091",
     "exception": false,
     "start_time": "2023-12-25T10:17:46.563116",
     "status": "completed"
    },
    "tags": []
   },
   "outputs": [
    {
     "data": {
      "text/html": [
       "<div>\n",
       "<style scoped>\n",
       "    .dataframe tbody tr th:only-of-type {\n",
       "        vertical-align: middle;\n",
       "    }\n",
       "\n",
       "    .dataframe tbody tr th {\n",
       "        vertical-align: top;\n",
       "    }\n",
       "\n",
       "    .dataframe thead th {\n",
       "        text-align: right;\n",
       "    }\n",
       "</style>\n",
       "<table border=\"1\" class=\"dataframe\">\n",
       "  <thead>\n",
       "    <tr style=\"text-align: right;\">\n",
       "      <th></th>\n",
       "      <th>location</th>\n",
       "      <th>count</th>\n",
       "    </tr>\n",
       "  </thead>\n",
       "  <tbody>\n",
       "    <tr>\n",
       "      <th>0</th>\n",
       "      <td>Faizabad Road</td>\n",
       "      <td>52</td>\n",
       "    </tr>\n",
       "    <tr>\n",
       "      <th>1</th>\n",
       "      <td>Jankipuram</td>\n",
       "      <td>49</td>\n",
       "    </tr>\n",
       "    <tr>\n",
       "      <th>2</th>\n",
       "      <td>Kursi Road</td>\n",
       "      <td>32</td>\n",
       "    </tr>\n",
       "    <tr>\n",
       "      <th>3</th>\n",
       "      <td>Sitapur Road</td>\n",
       "      <td>24</td>\n",
       "    </tr>\n",
       "  </tbody>\n",
       "</table>\n",
       "</div>"
      ],
      "text/plain": [
       "        location  count\n",
       "0  Faizabad Road     52\n",
       "1     Jankipuram     49\n",
       "2     Kursi Road     32\n",
       "3   Sitapur Road     24"
      ]
     },
     "execution_count": 9,
     "metadata": {},
     "output_type": "execute_result"
    }
   ],
   "source": [
    "location_count = df['location'].value_counts()\n",
    "location_count = location_count.reset_index()\n",
    "at_least_5 = (len(df)*5)/100\n",
    "req_location = location_count[location_count['count']>=at_least_5]\n",
    "req_location"
   ]
  },
  {
   "cell_type": "code",
   "execution_count": 10,
   "id": "73bc4d70",
   "metadata": {
    "execution": {
     "iopub.execute_input": "2023-12-25T10:17:46.627314Z",
     "iopub.status.busy": "2023-12-25T10:17:46.626368Z",
     "iopub.status.idle": "2023-12-25T10:17:46.632218Z",
     "shell.execute_reply": "2023-12-25T10:17:46.631427Z"
    },
    "papermill": {
     "duration": 0.02118,
     "end_time": "2023-12-25T10:17:46.634414",
     "exception": false,
     "start_time": "2023-12-25T10:17:46.613234",
     "status": "completed"
    },
    "tags": []
   },
   "outputs": [],
   "source": [
    "df_req = df[df['location'].isin(req_location['location'])]"
   ]
  },
  {
   "cell_type": "code",
   "execution_count": 11,
   "id": "48331198",
   "metadata": {
    "execution": {
     "iopub.execute_input": "2023-12-25T10:17:46.660743Z",
     "iopub.status.busy": "2023-12-25T10:17:46.660320Z",
     "iopub.status.idle": "2023-12-25T10:17:46.676255Z",
     "shell.execute_reply": "2023-12-25T10:17:46.675135Z"
    },
    "papermill": {
     "duration": 0.031712,
     "end_time": "2023-12-25T10:17:46.678523",
     "exception": false,
     "start_time": "2023-12-25T10:17:46.646811",
     "status": "completed"
    },
    "tags": []
   },
   "outputs": [
    {
     "data": {
      "text/html": [
       "<div>\n",
       "<style scoped>\n",
       "    .dataframe tbody tr th:only-of-type {\n",
       "        vertical-align: middle;\n",
       "    }\n",
       "\n",
       "    .dataframe tbody tr th {\n",
       "        vertical-align: top;\n",
       "    }\n",
       "\n",
       "    .dataframe thead th {\n",
       "        text-align: right;\n",
       "    }\n",
       "</style>\n",
       "<table border=\"1\" class=\"dataframe\">\n",
       "  <thead>\n",
       "    <tr style=\"text-align: right;\">\n",
       "      <th></th>\n",
       "      <th>bhk</th>\n",
       "      <th>type</th>\n",
       "      <th>area_sq_ft</th>\n",
       "      <th>location</th>\n",
       "      <th>price_lakh</th>\n",
       "      <th>carpet_area</th>\n",
       "      <th>status</th>\n",
       "      <th>bathrooms</th>\n",
       "    </tr>\n",
       "  </thead>\n",
       "  <tbody>\n",
       "    <tr>\n",
       "      <th>2</th>\n",
       "      <td>2</td>\n",
       "      <td>Independent</td>\n",
       "      <td>1250</td>\n",
       "      <td>Jankipuram</td>\n",
       "      <td>50.0</td>\n",
       "      <td>1000</td>\n",
       "      <td>StatusReady</td>\n",
       "      <td>2</td>\n",
       "    </tr>\n",
       "    <tr>\n",
       "      <th>10</th>\n",
       "      <td>2</td>\n",
       "      <td>Independent</td>\n",
       "      <td>850</td>\n",
       "      <td>Jankipuram</td>\n",
       "      <td>27.0</td>\n",
       "      <td>600</td>\n",
       "      <td>StatusUnder</td>\n",
       "      <td>1</td>\n",
       "    </tr>\n",
       "    <tr>\n",
       "      <th>16</th>\n",
       "      <td>2</td>\n",
       "      <td>Independent</td>\n",
       "      <td>1500</td>\n",
       "      <td>Jankipuram</td>\n",
       "      <td>42.0</td>\n",
       "      <td>1250</td>\n",
       "      <td>StatusReady</td>\n",
       "      <td>2</td>\n",
       "    </tr>\n",
       "    <tr>\n",
       "      <th>26</th>\n",
       "      <td>2</td>\n",
       "      <td>Independent</td>\n",
       "      <td>1100</td>\n",
       "      <td>Jankipuram</td>\n",
       "      <td>44.0</td>\n",
       "      <td>700</td>\n",
       "      <td>StatusReady</td>\n",
       "      <td>2</td>\n",
       "    </tr>\n",
       "    <tr>\n",
       "      <th>29</th>\n",
       "      <td>2</td>\n",
       "      <td>Independent</td>\n",
       "      <td>1100</td>\n",
       "      <td>Jankipuram</td>\n",
       "      <td>46.0</td>\n",
       "      <td>1000</td>\n",
       "      <td>StatusReady</td>\n",
       "      <td>2</td>\n",
       "    </tr>\n",
       "  </tbody>\n",
       "</table>\n",
       "</div>"
      ],
      "text/plain": [
       "    bhk         type  area_sq_ft    location  price_lakh carpet_area  \\\n",
       "2     2  Independent        1250  Jankipuram        50.0        1000   \n",
       "10    2  Independent         850  Jankipuram        27.0         600   \n",
       "16    2  Independent        1500  Jankipuram        42.0        1250   \n",
       "26    2  Independent        1100  Jankipuram        44.0         700   \n",
       "29    2  Independent        1100  Jankipuram        46.0        1000   \n",
       "\n",
       "         status  bathrooms  \n",
       "2   StatusReady          2  \n",
       "10  StatusUnder          1  \n",
       "16  StatusReady          2  \n",
       "26  StatusReady          2  \n",
       "29  StatusReady          2  "
      ]
     },
     "execution_count": 11,
     "metadata": {},
     "output_type": "execute_result"
    }
   ],
   "source": [
    "df_req.head()"
   ]
  },
  {
   "cell_type": "code",
   "execution_count": 12,
   "id": "d430e896",
   "metadata": {
    "execution": {
     "iopub.execute_input": "2023-12-25T10:17:46.705246Z",
     "iopub.status.busy": "2023-12-25T10:17:46.704863Z",
     "iopub.status.idle": "2023-12-25T10:17:46.718559Z",
     "shell.execute_reply": "2023-12-25T10:17:46.717703Z"
    },
    "papermill": {
     "duration": 0.030153,
     "end_time": "2023-12-25T10:17:46.721102",
     "exception": false,
     "start_time": "2023-12-25T10:17:46.690949",
     "status": "completed"
    },
    "tags": []
   },
   "outputs": [],
   "source": [
    "df_dummies = pd.get_dummies(df_req[['type','status','location']],drop_first=True,dtype=int)"
   ]
  },
  {
   "cell_type": "code",
   "execution_count": 13,
   "id": "e308d5b6",
   "metadata": {
    "execution": {
     "iopub.execute_input": "2023-12-25T10:17:46.748373Z",
     "iopub.status.busy": "2023-12-25T10:17:46.747201Z",
     "iopub.status.idle": "2023-12-25T10:17:46.762641Z",
     "shell.execute_reply": "2023-12-25T10:17:46.761525Z"
    },
    "papermill": {
     "duration": 0.031783,
     "end_time": "2023-12-25T10:17:46.765269",
     "exception": false,
     "start_time": "2023-12-25T10:17:46.733486",
     "status": "completed"
    },
    "tags": []
   },
   "outputs": [
    {
     "data": {
      "text/html": [
       "<div>\n",
       "<style scoped>\n",
       "    .dataframe tbody tr th:only-of-type {\n",
       "        vertical-align: middle;\n",
       "    }\n",
       "\n",
       "    .dataframe tbody tr th {\n",
       "        vertical-align: top;\n",
       "    }\n",
       "\n",
       "    .dataframe thead th {\n",
       "        text-align: right;\n",
       "    }\n",
       "</style>\n",
       "<table border=\"1\" class=\"dataframe\">\n",
       "  <thead>\n",
       "    <tr style=\"text-align: right;\">\n",
       "      <th></th>\n",
       "      <th>bhk</th>\n",
       "      <th>type</th>\n",
       "      <th>area_sq_ft</th>\n",
       "      <th>location</th>\n",
       "      <th>price_lakh</th>\n",
       "      <th>carpet_area</th>\n",
       "      <th>status</th>\n",
       "      <th>bathrooms</th>\n",
       "    </tr>\n",
       "  </thead>\n",
       "  <tbody>\n",
       "    <tr>\n",
       "      <th>2</th>\n",
       "      <td>2</td>\n",
       "      <td>Independent</td>\n",
       "      <td>1250</td>\n",
       "      <td>Jankipuram</td>\n",
       "      <td>50.0</td>\n",
       "      <td>1000</td>\n",
       "      <td>StatusReady</td>\n",
       "      <td>2</td>\n",
       "    </tr>\n",
       "    <tr>\n",
       "      <th>10</th>\n",
       "      <td>2</td>\n",
       "      <td>Independent</td>\n",
       "      <td>850</td>\n",
       "      <td>Jankipuram</td>\n",
       "      <td>27.0</td>\n",
       "      <td>600</td>\n",
       "      <td>StatusUnder</td>\n",
       "      <td>1</td>\n",
       "    </tr>\n",
       "    <tr>\n",
       "      <th>16</th>\n",
       "      <td>2</td>\n",
       "      <td>Independent</td>\n",
       "      <td>1500</td>\n",
       "      <td>Jankipuram</td>\n",
       "      <td>42.0</td>\n",
       "      <td>1250</td>\n",
       "      <td>StatusReady</td>\n",
       "      <td>2</td>\n",
       "    </tr>\n",
       "    <tr>\n",
       "      <th>26</th>\n",
       "      <td>2</td>\n",
       "      <td>Independent</td>\n",
       "      <td>1100</td>\n",
       "      <td>Jankipuram</td>\n",
       "      <td>44.0</td>\n",
       "      <td>700</td>\n",
       "      <td>StatusReady</td>\n",
       "      <td>2</td>\n",
       "    </tr>\n",
       "    <tr>\n",
       "      <th>29</th>\n",
       "      <td>2</td>\n",
       "      <td>Independent</td>\n",
       "      <td>1100</td>\n",
       "      <td>Jankipuram</td>\n",
       "      <td>46.0</td>\n",
       "      <td>1000</td>\n",
       "      <td>StatusReady</td>\n",
       "      <td>2</td>\n",
       "    </tr>\n",
       "  </tbody>\n",
       "</table>\n",
       "</div>"
      ],
      "text/plain": [
       "    bhk         type  area_sq_ft    location  price_lakh carpet_area  \\\n",
       "2     2  Independent        1250  Jankipuram        50.0        1000   \n",
       "10    2  Independent         850  Jankipuram        27.0         600   \n",
       "16    2  Independent        1500  Jankipuram        42.0        1250   \n",
       "26    2  Independent        1100  Jankipuram        44.0         700   \n",
       "29    2  Independent        1100  Jankipuram        46.0        1000   \n",
       "\n",
       "         status  bathrooms  \n",
       "2   StatusReady          2  \n",
       "10  StatusUnder          1  \n",
       "16  StatusReady          2  \n",
       "26  StatusReady          2  \n",
       "29  StatusReady          2  "
      ]
     },
     "execution_count": 13,
     "metadata": {},
     "output_type": "execute_result"
    }
   ],
   "source": [
    "df_req.head()"
   ]
  },
  {
   "cell_type": "code",
   "execution_count": 14,
   "id": "1958fbf0",
   "metadata": {
    "execution": {
     "iopub.execute_input": "2023-12-25T10:17:46.792716Z",
     "iopub.status.busy": "2023-12-25T10:17:46.792302Z",
     "iopub.status.idle": "2023-12-25T10:17:46.798054Z",
     "shell.execute_reply": "2023-12-25T10:17:46.797174Z"
    },
    "papermill": {
     "duration": 0.022234,
     "end_time": "2023-12-25T10:17:46.800264",
     "exception": false,
     "start_time": "2023-12-25T10:17:46.778030",
     "status": "completed"
    },
    "tags": []
   },
   "outputs": [],
   "source": [
    "df_req  = pd.concat([df_req,df_dummies],axis='columns')"
   ]
  },
  {
   "cell_type": "code",
   "execution_count": 15,
   "id": "7fc4d533",
   "metadata": {
    "execution": {
     "iopub.execute_input": "2023-12-25T10:17:46.828016Z",
     "iopub.status.busy": "2023-12-25T10:17:46.827254Z",
     "iopub.status.idle": "2023-12-25T10:17:46.832560Z",
     "shell.execute_reply": "2023-12-25T10:17:46.831778Z"
    },
    "papermill": {
     "duration": 0.021784,
     "end_time": "2023-12-25T10:17:46.834835",
     "exception": false,
     "start_time": "2023-12-25T10:17:46.813051",
     "status": "completed"
    },
    "tags": []
   },
   "outputs": [],
   "source": [
    "df_req['carpet_area'].replace(' ',0,inplace=True)"
   ]
  },
  {
   "cell_type": "code",
   "execution_count": 16,
   "id": "df756881",
   "metadata": {
    "execution": {
     "iopub.execute_input": "2023-12-25T10:17:46.863958Z",
     "iopub.status.busy": "2023-12-25T10:17:46.863259Z",
     "iopub.status.idle": "2023-12-25T10:17:46.868777Z",
     "shell.execute_reply": "2023-12-25T10:17:46.868006Z"
    },
    "papermill": {
     "duration": 0.02186,
     "end_time": "2023-12-25T10:17:46.870979",
     "exception": false,
     "start_time": "2023-12-25T10:17:46.849119",
     "status": "completed"
    },
    "tags": []
   },
   "outputs": [],
   "source": [
    "to_be_scaled = df_req[['area_sq_ft','price_lakh','carpet_area']]"
   ]
  },
  {
   "cell_type": "code",
   "execution_count": 17,
   "id": "5a174cf4",
   "metadata": {
    "execution": {
     "iopub.execute_input": "2023-12-25T10:17:46.898513Z",
     "iopub.status.busy": "2023-12-25T10:17:46.897796Z",
     "iopub.status.idle": "2023-12-25T10:17:46.902448Z",
     "shell.execute_reply": "2023-12-25T10:17:46.901612Z"
    },
    "papermill": {
     "duration": 0.020987,
     "end_time": "2023-12-25T10:17:46.904655",
     "exception": false,
     "start_time": "2023-12-25T10:17:46.883668",
     "status": "completed"
    },
    "tags": []
   },
   "outputs": [],
   "source": [
    "scale = StandardScaler()"
   ]
  },
  {
   "cell_type": "code",
   "execution_count": 18,
   "id": "44edbce1",
   "metadata": {
    "execution": {
     "iopub.execute_input": "2023-12-25T10:17:46.932828Z",
     "iopub.status.busy": "2023-12-25T10:17:46.932163Z",
     "iopub.status.idle": "2023-12-25T10:17:46.940922Z",
     "shell.execute_reply": "2023-12-25T10:17:46.939953Z"
    },
    "papermill": {
     "duration": 0.026413,
     "end_time": "2023-12-25T10:17:46.943844",
     "exception": false,
     "start_time": "2023-12-25T10:17:46.917431",
     "status": "completed"
    },
    "tags": []
   },
   "outputs": [],
   "source": [
    "scaled_data = scale.fit_transform(to_be_scaled)"
   ]
  },
  {
   "cell_type": "code",
   "execution_count": 19,
   "id": "66e3fa0a",
   "metadata": {
    "execution": {
     "iopub.execute_input": "2023-12-25T10:17:46.972032Z",
     "iopub.status.busy": "2023-12-25T10:17:46.971591Z",
     "iopub.status.idle": "2023-12-25T10:17:46.977420Z",
     "shell.execute_reply": "2023-12-25T10:17:46.976501Z"
    },
    "papermill": {
     "duration": 0.022848,
     "end_time": "2023-12-25T10:17:46.979990",
     "exception": false,
     "start_time": "2023-12-25T10:17:46.957142",
     "status": "completed"
    },
    "tags": []
   },
   "outputs": [],
   "source": [
    "df_req[['area_sq_ft','price_lakh','carpet_area']] = scaled_data"
   ]
  },
  {
   "cell_type": "code",
   "execution_count": 20,
   "id": "aaa7886f",
   "metadata": {
    "execution": {
     "iopub.execute_input": "2023-12-25T10:17:47.007469Z",
     "iopub.status.busy": "2023-12-25T10:17:47.006813Z",
     "iopub.status.idle": "2023-12-25T10:17:47.013609Z",
     "shell.execute_reply": "2023-12-25T10:17:47.012394Z"
    },
    "papermill": {
     "duration": 0.023538,
     "end_time": "2023-12-25T10:17:47.016283",
     "exception": false,
     "start_time": "2023-12-25T10:17:46.992745",
     "status": "completed"
    },
    "tags": []
   },
   "outputs": [],
   "source": [
    "df_req.drop(columns=['type','location','status'],inplace=True)"
   ]
  },
  {
   "cell_type": "code",
   "execution_count": 21,
   "id": "cbf96220",
   "metadata": {
    "execution": {
     "iopub.execute_input": "2023-12-25T10:17:47.044288Z",
     "iopub.status.busy": "2023-12-25T10:17:47.043912Z",
     "iopub.status.idle": "2023-12-25T10:17:47.063476Z",
     "shell.execute_reply": "2023-12-25T10:17:47.062357Z"
    },
    "papermill": {
     "duration": 0.036912,
     "end_time": "2023-12-25T10:17:47.065958",
     "exception": false,
     "start_time": "2023-12-25T10:17:47.029046",
     "status": "completed"
    },
    "tags": []
   },
   "outputs": [
    {
     "data": {
      "text/html": [
       "<div>\n",
       "<style scoped>\n",
       "    .dataframe tbody tr th:only-of-type {\n",
       "        vertical-align: middle;\n",
       "    }\n",
       "\n",
       "    .dataframe tbody tr th {\n",
       "        vertical-align: top;\n",
       "    }\n",
       "\n",
       "    .dataframe thead th {\n",
       "        text-align: right;\n",
       "    }\n",
       "</style>\n",
       "<table border=\"1\" class=\"dataframe\">\n",
       "  <thead>\n",
       "    <tr style=\"text-align: right;\">\n",
       "      <th></th>\n",
       "      <th>bhk</th>\n",
       "      <th>area_sq_ft</th>\n",
       "      <th>price_lakh</th>\n",
       "      <th>carpet_area</th>\n",
       "      <th>bathrooms</th>\n",
       "      <th>type_Villa</th>\n",
       "      <th>status_StatusUnder</th>\n",
       "      <th>location_Jankipuram</th>\n",
       "      <th>location_Kursi Road</th>\n",
       "      <th>location_Sitapur Road</th>\n",
       "    </tr>\n",
       "  </thead>\n",
       "  <tbody>\n",
       "    <tr>\n",
       "      <th>2</th>\n",
       "      <td>2</td>\n",
       "      <td>0.890495</td>\n",
       "      <td>1.216571</td>\n",
       "      <td>0.972847</td>\n",
       "      <td>2</td>\n",
       "      <td>0</td>\n",
       "      <td>0</td>\n",
       "      <td>1</td>\n",
       "      <td>0</td>\n",
       "      <td>0</td>\n",
       "    </tr>\n",
       "    <tr>\n",
       "      <th>10</th>\n",
       "      <td>2</td>\n",
       "      <td>-1.171717</td>\n",
       "      <td>-1.152090</td>\n",
       "      <td>0.024038</td>\n",
       "      <td>1</td>\n",
       "      <td>0</td>\n",
       "      <td>1</td>\n",
       "      <td>1</td>\n",
       "      <td>0</td>\n",
       "      <td>0</td>\n",
       "    </tr>\n",
       "    <tr>\n",
       "      <th>16</th>\n",
       "      <td>2</td>\n",
       "      <td>2.179377</td>\n",
       "      <td>0.392689</td>\n",
       "      <td>1.565853</td>\n",
       "      <td>2</td>\n",
       "      <td>0</td>\n",
       "      <td>0</td>\n",
       "      <td>1</td>\n",
       "      <td>0</td>\n",
       "      <td>0</td>\n",
       "    </tr>\n",
       "    <tr>\n",
       "      <th>26</th>\n",
       "      <td>2</td>\n",
       "      <td>0.117165</td>\n",
       "      <td>0.598659</td>\n",
       "      <td>0.261240</td>\n",
       "      <td>2</td>\n",
       "      <td>0</td>\n",
       "      <td>0</td>\n",
       "      <td>1</td>\n",
       "      <td>0</td>\n",
       "      <td>0</td>\n",
       "    </tr>\n",
       "    <tr>\n",
       "      <th>29</th>\n",
       "      <td>2</td>\n",
       "      <td>0.117165</td>\n",
       "      <td>0.804630</td>\n",
       "      <td>0.972847</td>\n",
       "      <td>2</td>\n",
       "      <td>0</td>\n",
       "      <td>0</td>\n",
       "      <td>1</td>\n",
       "      <td>0</td>\n",
       "      <td>0</td>\n",
       "    </tr>\n",
       "    <tr>\n",
       "      <th>...</th>\n",
       "      <td>...</td>\n",
       "      <td>...</td>\n",
       "      <td>...</td>\n",
       "      <td>...</td>\n",
       "      <td>...</td>\n",
       "      <td>...</td>\n",
       "      <td>...</td>\n",
       "      <td>...</td>\n",
       "      <td>...</td>\n",
       "      <td>...</td>\n",
       "    </tr>\n",
       "    <tr>\n",
       "      <th>468</th>\n",
       "      <td>2</td>\n",
       "      <td>0.632718</td>\n",
       "      <td>0.907615</td>\n",
       "      <td>0.972847</td>\n",
       "      <td>2</td>\n",
       "      <td>1</td>\n",
       "      <td>0</td>\n",
       "      <td>0</td>\n",
       "      <td>0</td>\n",
       "      <td>0</td>\n",
       "    </tr>\n",
       "    <tr>\n",
       "      <th>469</th>\n",
       "      <td>2</td>\n",
       "      <td>1.148271</td>\n",
       "      <td>0.907615</td>\n",
       "      <td>1.210049</td>\n",
       "      <td>2</td>\n",
       "      <td>1</td>\n",
       "      <td>0</td>\n",
       "      <td>0</td>\n",
       "      <td>0</td>\n",
       "      <td>0</td>\n",
       "    </tr>\n",
       "    <tr>\n",
       "      <th>470</th>\n",
       "      <td>2</td>\n",
       "      <td>0.890495</td>\n",
       "      <td>0.701644</td>\n",
       "      <td>0.972847</td>\n",
       "      <td>2</td>\n",
       "      <td>1</td>\n",
       "      <td>0</td>\n",
       "      <td>0</td>\n",
       "      <td>0</td>\n",
       "      <td>0</td>\n",
       "    </tr>\n",
       "    <tr>\n",
       "      <th>471</th>\n",
       "      <td>2</td>\n",
       "      <td>0.632718</td>\n",
       "      <td>-0.225223</td>\n",
       "      <td>-1.399177</td>\n",
       "      <td>2</td>\n",
       "      <td>0</td>\n",
       "      <td>1</td>\n",
       "      <td>0</td>\n",
       "      <td>1</td>\n",
       "      <td>0</td>\n",
       "    </tr>\n",
       "    <tr>\n",
       "      <th>473</th>\n",
       "      <td>2</td>\n",
       "      <td>0.942050</td>\n",
       "      <td>0.701644</td>\n",
       "      <td>0.465234</td>\n",
       "      <td>2</td>\n",
       "      <td>0</td>\n",
       "      <td>0</td>\n",
       "      <td>0</td>\n",
       "      <td>1</td>\n",
       "      <td>0</td>\n",
       "    </tr>\n",
       "  </tbody>\n",
       "</table>\n",
       "<p>157 rows × 10 columns</p>\n",
       "</div>"
      ],
      "text/plain": [
       "     bhk  area_sq_ft  price_lakh  carpet_area  bathrooms  type_Villa  \\\n",
       "2      2    0.890495    1.216571     0.972847          2           0   \n",
       "10     2   -1.171717   -1.152090     0.024038          1           0   \n",
       "16     2    2.179377    0.392689     1.565853          2           0   \n",
       "26     2    0.117165    0.598659     0.261240          2           0   \n",
       "29     2    0.117165    0.804630     0.972847          2           0   \n",
       "..   ...         ...         ...          ...        ...         ...   \n",
       "468    2    0.632718    0.907615     0.972847          2           1   \n",
       "469    2    1.148271    0.907615     1.210049          2           1   \n",
       "470    2    0.890495    0.701644     0.972847          2           1   \n",
       "471    2    0.632718   -0.225223    -1.399177          2           0   \n",
       "473    2    0.942050    0.701644     0.465234          2           0   \n",
       "\n",
       "     status_StatusUnder  location_Jankipuram  location_Kursi Road  \\\n",
       "2                     0                    1                    0   \n",
       "10                    1                    1                    0   \n",
       "16                    0                    1                    0   \n",
       "26                    0                    1                    0   \n",
       "29                    0                    1                    0   \n",
       "..                  ...                  ...                  ...   \n",
       "468                   0                    0                    0   \n",
       "469                   0                    0                    0   \n",
       "470                   0                    0                    0   \n",
       "471                   1                    0                    1   \n",
       "473                   0                    0                    1   \n",
       "\n",
       "     location_Sitapur Road  \n",
       "2                        0  \n",
       "10                       0  \n",
       "16                       0  \n",
       "26                       0  \n",
       "29                       0  \n",
       "..                     ...  \n",
       "468                      0  \n",
       "469                      0  \n",
       "470                      0  \n",
       "471                      0  \n",
       "473                      0  \n",
       "\n",
       "[157 rows x 10 columns]"
      ]
     },
     "execution_count": 21,
     "metadata": {},
     "output_type": "execute_result"
    }
   ],
   "source": [
    "df_req"
   ]
  },
  {
   "cell_type": "code",
   "execution_count": 22,
   "id": "4c8a0776",
   "metadata": {
    "execution": {
     "iopub.execute_input": "2023-12-25T10:17:47.158039Z",
     "iopub.status.busy": "2023-12-25T10:17:47.157363Z",
     "iopub.status.idle": "2023-12-25T10:17:47.163553Z",
     "shell.execute_reply": "2023-12-25T10:17:47.162348Z"
    },
    "papermill": {
     "duration": 0.023558,
     "end_time": "2023-12-25T10:17:47.166125",
     "exception": false,
     "start_time": "2023-12-25T10:17:47.142567",
     "status": "completed"
    },
    "tags": []
   },
   "outputs": [],
   "source": [
    "X = df_req.drop(columns='price_lakh')\n",
    "y = df_req['price_lakh']"
   ]
  },
  {
   "cell_type": "markdown",
   "id": "88070741",
   "metadata": {
    "papermill": {
     "duration": 0.0131,
     "end_time": "2023-12-25T10:17:47.192535",
     "exception": false,
     "start_time": "2023-12-25T10:17:47.179435",
     "status": "completed"
    },
    "tags": []
   },
   "source": [
    "## Training and Testing Model"
   ]
  },
  {
   "cell_type": "code",
   "execution_count": 23,
   "id": "be3dea74",
   "metadata": {
    "execution": {
     "iopub.execute_input": "2023-12-25T10:17:47.220927Z",
     "iopub.status.busy": "2023-12-25T10:17:47.220486Z",
     "iopub.status.idle": "2023-12-25T10:17:47.228080Z",
     "shell.execute_reply": "2023-12-25T10:17:47.226904Z"
    },
    "papermill": {
     "duration": 0.024539,
     "end_time": "2023-12-25T10:17:47.230405",
     "exception": false,
     "start_time": "2023-12-25T10:17:47.205866",
     "status": "completed"
    },
    "tags": []
   },
   "outputs": [],
   "source": [
    "X_train, X_test, y_train, y_test = train_test_split(X,y,test_size=0.2)"
   ]
  },
  {
   "cell_type": "code",
   "execution_count": 24,
   "id": "1d6a18a0",
   "metadata": {
    "execution": {
     "iopub.execute_input": "2023-12-25T10:17:47.259245Z",
     "iopub.status.busy": "2023-12-25T10:17:47.258414Z",
     "iopub.status.idle": "2023-12-25T10:17:47.263161Z",
     "shell.execute_reply": "2023-12-25T10:17:47.262330Z"
    },
    "papermill": {
     "duration": 0.021549,
     "end_time": "2023-12-25T10:17:47.265341",
     "exception": false,
     "start_time": "2023-12-25T10:17:47.243792",
     "status": "completed"
    },
    "tags": []
   },
   "outputs": [],
   "source": [
    "model = LinearRegression()"
   ]
  },
  {
   "cell_type": "code",
   "execution_count": 25,
   "id": "b04985bd",
   "metadata": {
    "execution": {
     "iopub.execute_input": "2023-12-25T10:17:47.294031Z",
     "iopub.status.busy": "2023-12-25T10:17:47.293349Z",
     "iopub.status.idle": "2023-12-25T10:17:47.322599Z",
     "shell.execute_reply": "2023-12-25T10:17:47.321498Z"
    },
    "papermill": {
     "duration": 0.046605,
     "end_time": "2023-12-25T10:17:47.325262",
     "exception": false,
     "start_time": "2023-12-25T10:17:47.278657",
     "status": "completed"
    },
    "tags": []
   },
   "outputs": [
    {
     "data": {
      "text/html": [
       "<style>#sk-container-id-1 {color: black;background-color: white;}#sk-container-id-1 pre{padding: 0;}#sk-container-id-1 div.sk-toggleable {background-color: white;}#sk-container-id-1 label.sk-toggleable__label {cursor: pointer;display: block;width: 100%;margin-bottom: 0;padding: 0.3em;box-sizing: border-box;text-align: center;}#sk-container-id-1 label.sk-toggleable__label-arrow:before {content: \"▸\";float: left;margin-right: 0.25em;color: #696969;}#sk-container-id-1 label.sk-toggleable__label-arrow:hover:before {color: black;}#sk-container-id-1 div.sk-estimator:hover label.sk-toggleable__label-arrow:before {color: black;}#sk-container-id-1 div.sk-toggleable__content {max-height: 0;max-width: 0;overflow: hidden;text-align: left;background-color: #f0f8ff;}#sk-container-id-1 div.sk-toggleable__content pre {margin: 0.2em;color: black;border-radius: 0.25em;background-color: #f0f8ff;}#sk-container-id-1 input.sk-toggleable__control:checked~div.sk-toggleable__content {max-height: 200px;max-width: 100%;overflow: auto;}#sk-container-id-1 input.sk-toggleable__control:checked~label.sk-toggleable__label-arrow:before {content: \"▾\";}#sk-container-id-1 div.sk-estimator input.sk-toggleable__control:checked~label.sk-toggleable__label {background-color: #d4ebff;}#sk-container-id-1 div.sk-label input.sk-toggleable__control:checked~label.sk-toggleable__label {background-color: #d4ebff;}#sk-container-id-1 input.sk-hidden--visually {border: 0;clip: rect(1px 1px 1px 1px);clip: rect(1px, 1px, 1px, 1px);height: 1px;margin: -1px;overflow: hidden;padding: 0;position: absolute;width: 1px;}#sk-container-id-1 div.sk-estimator {font-family: monospace;background-color: #f0f8ff;border: 1px dotted black;border-radius: 0.25em;box-sizing: border-box;margin-bottom: 0.5em;}#sk-container-id-1 div.sk-estimator:hover {background-color: #d4ebff;}#sk-container-id-1 div.sk-parallel-item::after {content: \"\";width: 100%;border-bottom: 1px solid gray;flex-grow: 1;}#sk-container-id-1 div.sk-label:hover label.sk-toggleable__label {background-color: #d4ebff;}#sk-container-id-1 div.sk-serial::before {content: \"\";position: absolute;border-left: 1px solid gray;box-sizing: border-box;top: 0;bottom: 0;left: 50%;z-index: 0;}#sk-container-id-1 div.sk-serial {display: flex;flex-direction: column;align-items: center;background-color: white;padding-right: 0.2em;padding-left: 0.2em;position: relative;}#sk-container-id-1 div.sk-item {position: relative;z-index: 1;}#sk-container-id-1 div.sk-parallel {display: flex;align-items: stretch;justify-content: center;background-color: white;position: relative;}#sk-container-id-1 div.sk-item::before, #sk-container-id-1 div.sk-parallel-item::before {content: \"\";position: absolute;border-left: 1px solid gray;box-sizing: border-box;top: 0;bottom: 0;left: 50%;z-index: -1;}#sk-container-id-1 div.sk-parallel-item {display: flex;flex-direction: column;z-index: 1;position: relative;background-color: white;}#sk-container-id-1 div.sk-parallel-item:first-child::after {align-self: flex-end;width: 50%;}#sk-container-id-1 div.sk-parallel-item:last-child::after {align-self: flex-start;width: 50%;}#sk-container-id-1 div.sk-parallel-item:only-child::after {width: 0;}#sk-container-id-1 div.sk-dashed-wrapped {border: 1px dashed gray;margin: 0 0.4em 0.5em 0.4em;box-sizing: border-box;padding-bottom: 0.4em;background-color: white;}#sk-container-id-1 div.sk-label label {font-family: monospace;font-weight: bold;display: inline-block;line-height: 1.2em;}#sk-container-id-1 div.sk-label-container {text-align: center;}#sk-container-id-1 div.sk-container {/* jupyter's `normalize.less` sets `[hidden] { display: none; }` but bootstrap.min.css set `[hidden] { display: none !important; }` so we also need the `!important` here to be able to override the default hidden behavior on the sphinx rendered scikit-learn.org. See: https://github.com/scikit-learn/scikit-learn/issues/21755 */display: inline-block !important;position: relative;}#sk-container-id-1 div.sk-text-repr-fallback {display: none;}</style><div id=\"sk-container-id-1\" class=\"sk-top-container\"><div class=\"sk-text-repr-fallback\"><pre>LinearRegression()</pre><b>In a Jupyter environment, please rerun this cell to show the HTML representation or trust the notebook. <br />On GitHub, the HTML representation is unable to render, please try loading this page with nbviewer.org.</b></div><div class=\"sk-container\" hidden><div class=\"sk-item\"><div class=\"sk-estimator sk-toggleable\"><input class=\"sk-toggleable__control sk-hidden--visually\" id=\"sk-estimator-id-1\" type=\"checkbox\" checked><label for=\"sk-estimator-id-1\" class=\"sk-toggleable__label sk-toggleable__label-arrow\">LinearRegression</label><div class=\"sk-toggleable__content\"><pre>LinearRegression()</pre></div></div></div></div></div>"
      ],
      "text/plain": [
       "LinearRegression()"
      ]
     },
     "execution_count": 25,
     "metadata": {},
     "output_type": "execute_result"
    }
   ],
   "source": [
    "model.fit(X_train,y_train)"
   ]
  },
  {
   "cell_type": "code",
   "execution_count": 26,
   "id": "dad7dd01",
   "metadata": {
    "execution": {
     "iopub.execute_input": "2023-12-25T10:17:47.354104Z",
     "iopub.status.busy": "2023-12-25T10:17:47.353683Z",
     "iopub.status.idle": "2023-12-25T10:17:47.363076Z",
     "shell.execute_reply": "2023-12-25T10:17:47.361982Z"
    },
    "papermill": {
     "duration": 0.027158,
     "end_time": "2023-12-25T10:17:47.365855",
     "exception": false,
     "start_time": "2023-12-25T10:17:47.338697",
     "status": "completed"
    },
    "tags": []
   },
   "outputs": [
    {
     "data": {
      "text/plain": [
       "0.7112823899084595"
      ]
     },
     "execution_count": 26,
     "metadata": {},
     "output_type": "execute_result"
    }
   ],
   "source": [
    "model.score(X_train,y_train)"
   ]
  },
  {
   "cell_type": "code",
   "execution_count": 27,
   "id": "056be1f7",
   "metadata": {
    "execution": {
     "iopub.execute_input": "2023-12-25T10:17:47.395212Z",
     "iopub.status.busy": "2023-12-25T10:17:47.394816Z",
     "iopub.status.idle": "2023-12-25T10:17:47.404547Z",
     "shell.execute_reply": "2023-12-25T10:17:47.403676Z"
    },
    "papermill": {
     "duration": 0.027221,
     "end_time": "2023-12-25T10:17:47.406654",
     "exception": false,
     "start_time": "2023-12-25T10:17:47.379433",
     "status": "completed"
    },
    "tags": []
   },
   "outputs": [
    {
     "data": {
      "text/plain": [
       "0.824451183624956"
      ]
     },
     "execution_count": 27,
     "metadata": {},
     "output_type": "execute_result"
    }
   ],
   "source": [
    "model.score(X_test,y_test)"
   ]
  },
  {
   "cell_type": "code",
   "execution_count": 28,
   "id": "bc0ea844",
   "metadata": {
    "execution": {
     "iopub.execute_input": "2023-12-25T10:17:47.436220Z",
     "iopub.status.busy": "2023-12-25T10:17:47.435745Z",
     "iopub.status.idle": "2023-12-25T10:17:47.442891Z",
     "shell.execute_reply": "2023-12-25T10:17:47.441850Z"
    },
    "papermill": {
     "duration": 0.024679,
     "end_time": "2023-12-25T10:17:47.445106",
     "exception": false,
     "start_time": "2023-12-25T10:17:47.420427",
     "status": "completed"
    },
    "tags": []
   },
   "outputs": [
    {
     "data": {
      "text/plain": [
       "125"
      ]
     },
     "execution_count": 28,
     "metadata": {},
     "output_type": "execute_result"
    }
   ],
   "source": [
    "len(X_train)"
   ]
  },
  {
   "cell_type": "code",
   "execution_count": 29,
   "id": "96664999",
   "metadata": {
    "execution": {
     "iopub.execute_input": "2023-12-25T10:17:47.474635Z",
     "iopub.status.busy": "2023-12-25T10:17:47.474213Z",
     "iopub.status.idle": "2023-12-25T10:17:47.479732Z",
     "shell.execute_reply": "2023-12-25T10:17:47.478612Z"
    },
    "papermill": {
     "duration": 0.023069,
     "end_time": "2023-12-25T10:17:47.482010",
     "exception": false,
     "start_time": "2023-12-25T10:17:47.458941",
     "status": "completed"
    },
    "tags": []
   },
   "outputs": [],
   "source": [
    "bag_model = BaggingRegressor(estimator=LinearRegression(),\n",
    "                        n_estimators=10,max_samples=1.0,oob_score=False)"
   ]
  },
  {
   "cell_type": "code",
   "execution_count": 30,
   "id": "3ee08c34",
   "metadata": {
    "execution": {
     "iopub.execute_input": "2023-12-25T10:17:47.512101Z",
     "iopub.status.busy": "2023-12-25T10:17:47.511689Z",
     "iopub.status.idle": "2023-12-25T10:17:47.550211Z",
     "shell.execute_reply": "2023-12-25T10:17:47.549054Z"
    },
    "papermill": {
     "duration": 0.056767,
     "end_time": "2023-12-25T10:17:47.552796",
     "exception": false,
     "start_time": "2023-12-25T10:17:47.496029",
     "status": "completed"
    },
    "tags": []
   },
   "outputs": [
    {
     "data": {
      "text/html": [
       "<style>#sk-container-id-2 {color: black;background-color: white;}#sk-container-id-2 pre{padding: 0;}#sk-container-id-2 div.sk-toggleable {background-color: white;}#sk-container-id-2 label.sk-toggleable__label {cursor: pointer;display: block;width: 100%;margin-bottom: 0;padding: 0.3em;box-sizing: border-box;text-align: center;}#sk-container-id-2 label.sk-toggleable__label-arrow:before {content: \"▸\";float: left;margin-right: 0.25em;color: #696969;}#sk-container-id-2 label.sk-toggleable__label-arrow:hover:before {color: black;}#sk-container-id-2 div.sk-estimator:hover label.sk-toggleable__label-arrow:before {color: black;}#sk-container-id-2 div.sk-toggleable__content {max-height: 0;max-width: 0;overflow: hidden;text-align: left;background-color: #f0f8ff;}#sk-container-id-2 div.sk-toggleable__content pre {margin: 0.2em;color: black;border-radius: 0.25em;background-color: #f0f8ff;}#sk-container-id-2 input.sk-toggleable__control:checked~div.sk-toggleable__content {max-height: 200px;max-width: 100%;overflow: auto;}#sk-container-id-2 input.sk-toggleable__control:checked~label.sk-toggleable__label-arrow:before {content: \"▾\";}#sk-container-id-2 div.sk-estimator input.sk-toggleable__control:checked~label.sk-toggleable__label {background-color: #d4ebff;}#sk-container-id-2 div.sk-label input.sk-toggleable__control:checked~label.sk-toggleable__label {background-color: #d4ebff;}#sk-container-id-2 input.sk-hidden--visually {border: 0;clip: rect(1px 1px 1px 1px);clip: rect(1px, 1px, 1px, 1px);height: 1px;margin: -1px;overflow: hidden;padding: 0;position: absolute;width: 1px;}#sk-container-id-2 div.sk-estimator {font-family: monospace;background-color: #f0f8ff;border: 1px dotted black;border-radius: 0.25em;box-sizing: border-box;margin-bottom: 0.5em;}#sk-container-id-2 div.sk-estimator:hover {background-color: #d4ebff;}#sk-container-id-2 div.sk-parallel-item::after {content: \"\";width: 100%;border-bottom: 1px solid gray;flex-grow: 1;}#sk-container-id-2 div.sk-label:hover label.sk-toggleable__label {background-color: #d4ebff;}#sk-container-id-2 div.sk-serial::before {content: \"\";position: absolute;border-left: 1px solid gray;box-sizing: border-box;top: 0;bottom: 0;left: 50%;z-index: 0;}#sk-container-id-2 div.sk-serial {display: flex;flex-direction: column;align-items: center;background-color: white;padding-right: 0.2em;padding-left: 0.2em;position: relative;}#sk-container-id-2 div.sk-item {position: relative;z-index: 1;}#sk-container-id-2 div.sk-parallel {display: flex;align-items: stretch;justify-content: center;background-color: white;position: relative;}#sk-container-id-2 div.sk-item::before, #sk-container-id-2 div.sk-parallel-item::before {content: \"\";position: absolute;border-left: 1px solid gray;box-sizing: border-box;top: 0;bottom: 0;left: 50%;z-index: -1;}#sk-container-id-2 div.sk-parallel-item {display: flex;flex-direction: column;z-index: 1;position: relative;background-color: white;}#sk-container-id-2 div.sk-parallel-item:first-child::after {align-self: flex-end;width: 50%;}#sk-container-id-2 div.sk-parallel-item:last-child::after {align-self: flex-start;width: 50%;}#sk-container-id-2 div.sk-parallel-item:only-child::after {width: 0;}#sk-container-id-2 div.sk-dashed-wrapped {border: 1px dashed gray;margin: 0 0.4em 0.5em 0.4em;box-sizing: border-box;padding-bottom: 0.4em;background-color: white;}#sk-container-id-2 div.sk-label label {font-family: monospace;font-weight: bold;display: inline-block;line-height: 1.2em;}#sk-container-id-2 div.sk-label-container {text-align: center;}#sk-container-id-2 div.sk-container {/* jupyter's `normalize.less` sets `[hidden] { display: none; }` but bootstrap.min.css set `[hidden] { display: none !important; }` so we also need the `!important` here to be able to override the default hidden behavior on the sphinx rendered scikit-learn.org. See: https://github.com/scikit-learn/scikit-learn/issues/21755 */display: inline-block !important;position: relative;}#sk-container-id-2 div.sk-text-repr-fallback {display: none;}</style><div id=\"sk-container-id-2\" class=\"sk-top-container\"><div class=\"sk-text-repr-fallback\"><pre>BaggingRegressor(estimator=LinearRegression())</pre><b>In a Jupyter environment, please rerun this cell to show the HTML representation or trust the notebook. <br />On GitHub, the HTML representation is unable to render, please try loading this page with nbviewer.org.</b></div><div class=\"sk-container\" hidden><div class=\"sk-item sk-dashed-wrapped\"><div class=\"sk-label-container\"><div class=\"sk-label sk-toggleable\"><input class=\"sk-toggleable__control sk-hidden--visually\" id=\"sk-estimator-id-2\" type=\"checkbox\" ><label for=\"sk-estimator-id-2\" class=\"sk-toggleable__label sk-toggleable__label-arrow\">BaggingRegressor</label><div class=\"sk-toggleable__content\"><pre>BaggingRegressor(estimator=LinearRegression())</pre></div></div></div><div class=\"sk-parallel\"><div class=\"sk-parallel-item\"><div class=\"sk-item\"><div class=\"sk-label-container\"><div class=\"sk-label sk-toggleable\"><input class=\"sk-toggleable__control sk-hidden--visually\" id=\"sk-estimator-id-3\" type=\"checkbox\" ><label for=\"sk-estimator-id-3\" class=\"sk-toggleable__label sk-toggleable__label-arrow\">estimator: LinearRegression</label><div class=\"sk-toggleable__content\"><pre>LinearRegression()</pre></div></div></div><div class=\"sk-serial\"><div class=\"sk-item\"><div class=\"sk-estimator sk-toggleable\"><input class=\"sk-toggleable__control sk-hidden--visually\" id=\"sk-estimator-id-4\" type=\"checkbox\" ><label for=\"sk-estimator-id-4\" class=\"sk-toggleable__label sk-toggleable__label-arrow\">LinearRegression</label><div class=\"sk-toggleable__content\"><pre>LinearRegression()</pre></div></div></div></div></div></div></div></div></div></div>"
      ],
      "text/plain": [
       "BaggingRegressor(estimator=LinearRegression())"
      ]
     },
     "execution_count": 30,
     "metadata": {},
     "output_type": "execute_result"
    }
   ],
   "source": [
    "bag_model.fit(X_train,y_train)"
   ]
  },
  {
   "cell_type": "code",
   "execution_count": 31,
   "id": "80554194",
   "metadata": {
    "execution": {
     "iopub.execute_input": "2023-12-25T10:17:47.583506Z",
     "iopub.status.busy": "2023-12-25T10:17:47.583080Z",
     "iopub.status.idle": "2023-12-25T10:17:47.595400Z",
     "shell.execute_reply": "2023-12-25T10:17:47.594283Z"
    },
    "papermill": {
     "duration": 0.030582,
     "end_time": "2023-12-25T10:17:47.597580",
     "exception": false,
     "start_time": "2023-12-25T10:17:47.566998",
     "status": "completed"
    },
    "tags": []
   },
   "outputs": [
    {
     "data": {
      "text/plain": [
       "0.8238394383647838"
      ]
     },
     "execution_count": 31,
     "metadata": {},
     "output_type": "execute_result"
    }
   ],
   "source": [
    "bag_model.score(X_test,y_test)"
   ]
  },
  {
   "cell_type": "code",
   "execution_count": 32,
   "id": "a075259d",
   "metadata": {
    "execution": {
     "iopub.execute_input": "2023-12-25T10:17:47.630672Z",
     "iopub.status.busy": "2023-12-25T10:17:47.630255Z",
     "iopub.status.idle": "2023-12-25T10:17:47.806290Z",
     "shell.execute_reply": "2023-12-25T10:17:47.805399Z"
    },
    "papermill": {
     "duration": 0.194167,
     "end_time": "2023-12-25T10:17:47.808501",
     "exception": false,
     "start_time": "2023-12-25T10:17:47.614334",
     "status": "completed"
    },
    "tags": []
   },
   "outputs": [
    {
     "data": {
      "text/plain": [
       "array([0.35532417, 0.72709872, 0.58796814, 0.81747909, 0.51213713])"
      ]
     },
     "execution_count": 32,
     "metadata": {},
     "output_type": "execute_result"
    }
   ],
   "source": [
    "cross_val_score(bag_model,X,y,cv=5)"
   ]
  }
 ],
 "metadata": {
  "kaggle": {
   "accelerator": "none",
   "dataSources": [
    {
     "datasetId": 4211705,
     "sourceId": 7266225,
     "sourceType": "datasetVersion"
    }
   ],
   "dockerImageVersionId": 30626,
   "isGpuEnabled": false,
   "isInternetEnabled": true,
   "language": "python",
   "sourceType": "notebook"
  },
  "kernelspec": {
   "display_name": "Python 3",
   "language": "python",
   "name": "python3"
  },
  "language_info": {
   "codemirror_mode": {
    "name": "ipython",
    "version": 3
   },
   "file_extension": ".py",
   "mimetype": "text/x-python",
   "name": "python",
   "nbconvert_exporter": "python",
   "pygments_lexer": "ipython3",
   "version": "3.10.12"
  },
  "papermill": {
   "default_parameters": {},
   "duration": 7.895954,
   "end_time": "2023-12-25T10:17:48.444750",
   "environment_variables": {},
   "exception": null,
   "input_path": "__notebook__.ipynb",
   "output_path": "__notebook__.ipynb",
   "parameters": {},
   "start_time": "2023-12-25T10:17:40.548796",
   "version": "2.4.0"
  }
 },
 "nbformat": 4,
 "nbformat_minor": 5
}
